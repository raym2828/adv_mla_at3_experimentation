{
 "cells": [
  {
   "cell_type": "code",
   "execution_count": 14,
   "metadata": {},
   "outputs": [],
   "source": [
    "import pandas as pd\n",
    "import numpy as np\n",
    "import tensorflow as tf\n",
    "from scikeras.wrappers import KerasRegressor\n",
    "from sklearn.model_selection import train_test_split, RandomizedSearchCV\n",
    "from sklearn.pipeline import Pipeline\n",
    "from sklearn.preprocessing import LabelEncoder, StandardScaler, OneHotEncoder\n",
    "from sklearn.base import BaseEstimator, TransformerMixin\n",
    "from sklearn.compose import ColumnTransformer\n",
    "from sklearn.linear_model import LinearRegression\n",
    "from sklearn.ensemble import RandomForestRegressor\n",
    "from lightgbm import LGBMRegressor\n",
    "from sklearn.metrics import mean_absolute_error, root_mean_squared_error\n",
    "import joblib\n",
    "import os\n",
    "from tensorflow.keras.layers import Input, Embedding, Flatten, Concatenate, Dense, Dropout, BatchNormalization\n",
    "from tensorflow.keras.models import Model\n",
    "from tensorflow.keras import layers\n",
    "from tensorflow.keras.callbacks import EarlyStopping\n"
   ]
  },
  {
   "cell_type": "markdown",
   "metadata": {},
   "source": [
    "## Open master df"
   ]
  },
  {
   "cell_type": "code",
   "execution_count": 15,
   "metadata": {},
   "outputs": [],
   "source": [
    "# Open master\n",
    "df_train= pd.read_feather('../data/processed/train_data.feather')\n",
    "df_test= pd.read_feather('../data/processed/test_data.feather')\n"
   ]
  },
  {
   "cell_type": "markdown",
   "metadata": {},
   "source": [
    "# Modelling"
   ]
  },
  {
   "cell_type": "markdown",
   "metadata": {},
   "source": [
    "Steps\n",
    "1. Encode the categories\n",
    "2. Normalise\n",
    "3. Split and train\n",
    "4. train \n",
    "5. Eval"
   ]
  },
  {
   "cell_type": "markdown",
   "metadata": {},
   "source": [
    "### Preprocess data"
   ]
  },
  {
   "cell_type": "code",
   "execution_count": 16,
   "metadata": {},
   "outputs": [],
   "source": [
    "# Features to process\n",
    "boolean_cols = [\"isNonStop\", \"isRefundable\", \"isBasicEconomy\"]\n",
    "scale_cols = [\"DepartureTimeHour\", \"date_diff_days\", 'weekday'  ]\n",
    "\n",
    "\n",
    "# Preprocess the features\n",
    "def preprocess_drop(df):\n",
    "    df = df.drop([\"searchDate\", \"flightDate\", \"segmentsArrivalAirportCode\"], axis=1)\n",
    "    return df\n",
    "\n",
    "\n",
    "# Label encode for airports\n",
    "def process_airports(df):\n",
    "    le = LabelEncoder()\n",
    "    all_airports = sorted(set(df[\"startingAirport\"]).union(df[\"destinationAirport\"]))\n",
    "    le.fit(all_airports)\n",
    "\n",
    "    df[\"startingAirport\"] = le.transform(df[\"startingAirport\"])\n",
    "    df[\"destinationAirport\"] = le.transform(df[\"destinationAirport\"])\n",
    "    # Print dictionary of the label encoder for airports with original values and the encoded values\n",
    "    print(dict(zip(le.classes_, le.transform(le.classes_))))\n",
    "    return df, le\n",
    "\n",
    "\n",
    "# Process boolean columns\n",
    "def process_boolean(df, boolean_cols):\n",
    "    df[boolean_cols] = df[boolean_cols].astype(int)\n",
    "    return df\n",
    "\n",
    "\n",
    "# Scale data\n",
    "def process_scale(df, scale_cols):\n",
    "    scaler = StandardScaler()\n",
    "    print(\"scale_cols\", scale_cols)\n",
    "    print(\"df[scale_cols]\", df.columns)\n",
    "    df[scale_cols] = scaler.fit_transform(df[scale_cols])\n",
    "    return df, scaler\n",
    "\n",
    "\n",
    "# Process test data\n",
    "def process_test_data(df, le, scaler, boolean_cols, scale_cols):\n",
    "    print(\"le\", le)\n",
    "    df[\"startingAirport\"] = le.transform(df[\"startingAirport\"])\n",
    "    df[\"destinationAirport\"] = le.transform(df[\"destinationAirport\"])\n",
    "\n",
    "    df = process_boolean(df, boolean_cols)\n",
    "    print(\"processboolean\", df.columns)\n",
    "    df[scale_cols] = scaler.transform(df[scale_cols])\n",
    "    return df\n",
    "\n"
   ]
  },
  {
   "cell_type": "code",
   "execution_count": 17,
   "metadata": {},
   "outputs": [],
   "source": [
    "# Process the data into train, val, and test\n",
    "df_train, df_val = train_test_split(df_train, test_size=0.1, random_state=42)\n",
    "\n",
    "# Drop the columns that are not needed\n",
    "train = preprocess_drop(df_train.copy())\n",
    "val = preprocess_drop(df_val.copy())\n",
    "test = preprocess_drop(df_test.copy())"
   ]
  },
  {
   "cell_type": "code",
   "execution_count": 18,
   "metadata": {},
   "outputs": [
    {
     "name": "stdout",
     "output_type": "stream",
     "text": [
      "{'ATL': 0, 'BOS': 1, 'CLT': 2, 'DEN': 3, 'DFW': 4, 'DTW': 5, 'EWR': 6, 'IAD': 7, 'JFK': 8, 'LAX': 9, 'LGA': 10, 'MIA': 11, 'OAK': 12, 'ORD': 13, 'PHL': 14, 'SFO': 15}\n",
      "scale_cols ['DepartureTimeHour', 'date_diff_days', 'weekday']\n",
      "df[scale_cols] Index(['startingAirport', 'destinationAirport', 'isNonStop', 'isRefundable',\n",
      "       'isBasicEconomy', 'totalFare', 'totalTravelDistance',\n",
      "       'DepartureTimeHour', 'CabinCode', 'AirlineNameScore', 'date_diff_days',\n",
      "       'weekday'],\n",
      "      dtype='object')\n",
      "le LabelEncoder()\n",
      "processboolean Index(['startingAirport', 'destinationAirport', 'isNonStop', 'isRefundable',\n",
      "       'isBasicEconomy', 'totalFare', 'totalTravelDistance',\n",
      "       'DepartureTimeHour', 'CabinCode', 'AirlineNameScore', 'date_diff_days',\n",
      "       'weekday'],\n",
      "      dtype='object')\n"
     ]
    }
   ],
   "source": [
    "# Process training data into the right labels and data types\n",
    "df_train, le_airports = process_airports(train)\n",
    "df_train = process_boolean(df_train, boolean_cols)\n",
    "df_train, scaler = process_scale(df_train, scale_cols)\n",
    "\n",
    "\n",
    "# Process test data\n",
    "df_test = process_test_data(test, le_airports, scaler,  boolean_cols, scale_cols)\n"
   ]
  },
  {
   "cell_type": "code",
   "execution_count": 19,
   "metadata": {},
   "outputs": [],
   "source": [
    "# Create tensorflow nn\n",
    "def create_nn():\n",
    "    # Define the input layers\n",
    "    input_layers = []\n",
    "    output_layers = []\n",
    "    for col in categoy_features:\n",
    "        input_layer = Input(shape=(1,), name=col)\n",
    "        embedding = Embedding(input_dim=int(df_train[col].max()) + 1, output_dim=10)(input_layer)\n",
    "        embedding = Flatten()(embedding)\n",
    "        input_layers.append(input_layer)\n",
    "        output_layers.append(embedding)\n",
    "    for col in numerique_features:\n",
    "        input_layer = Input(shape=(1,), name=col)\n",
    "        input_layers.append(input_layer)\n",
    "        output_layers.append(input_layer)\n",
    "    # Concatenate the layers\n",
    "    x = Concatenate()(output_layers)\n",
    "    x = Dense(192, activation='relu')(x)\n",
    "    x = Dense(288, activation='relu')(x)\n",
    "    x = Dense(192, activation='relu')(x)\n",
    "    x = Dense(1)(x)\n",
    "    model = Model(inputs=input_layers, outputs=x)\n",
    "    model.compile(optimizer=tf.keras.optimizers.Adam(learning_rate=0.001), loss='mean_squared_error')\n",
    "    return model\n",
    "\n",
    "# Define the EarlyStopping callback\n",
    "early_stopping = EarlyStopping(\n",
    "    monitor='val_loss',  # Metric to monitor\n",
    "    patience=3,          # Number of epochs to wait for improvement\n",
    "    restore_best_weights=True  # Restore the best weights after stopping\n",
    ")"
   ]
  },
  {
   "cell_type": "code",
   "execution_count": 20,
   "metadata": {},
   "outputs": [
    {
     "name": "stderr",
     "output_type": "stream",
     "text": [
      "2024-11-07 00:57:46.102712: I external/local_xla/xla/stream_executor/cuda/cuda_executor.cc:984] could not open file to read NUMA node: /sys/bus/pci/devices/0000:01:00.0/numa_node\n",
      "Your kernel may have been built without NUMA support.\n",
      "2024-11-07 00:57:46.401600: W tensorflow/core/common_runtime/gpu/gpu_device.cc:2251] Cannot dlopen some GPU libraries. Please make sure the missing libraries mentioned above are installed properly if you would like to use GPU. Follow the guide at https://www.tensorflow.org/install/gpu for how to download and setup the required libraries for your platform.\n",
      "Skipping registering GPU devices...\n"
     ]
    },
    {
     "name": "stdout",
     "output_type": "stream",
     "text": [
      "Epoch 1/25\n"
     ]
    },
    {
     "name": "stderr",
     "output_type": "stream",
     "text": [
      "/home/raytechie/Projects/adv_mla_at3/ml_experimentation/.venv/lib/python3.10/site-packages/keras/src/models/functional.py:225: UserWarning: The structure of `inputs` doesn't match the expected structure: ['startingAirport', 'destinationAirport', 'AirlineNameScore', 'CabinCode', 'weekday', 'date_diff_days', 'isNonStop', 'isRefundable', 'isBasicEconomy', 'DepartureTimeHour']. Received: the structure of inputs={'startingAirport': '*', 'destinationAirport': '*', 'AirlineNameScore': '*', 'CabinCode': '*', 'DepartureTimeHour': '*', 'date_diff_days': '*', 'weekday': '*', 'isNonStop': '*', 'isRefundable': '*', 'isBasicEconomy': '*'}\n",
      "  warnings.warn(\n"
     ]
    },
    {
     "name": "stdout",
     "output_type": "stream",
     "text": [
      "\u001b[1m59489/59489\u001b[0m \u001b[32m━━━━━━━━━━━━━━━━━━━━\u001b[0m\u001b[37m\u001b[0m \u001b[1m146s\u001b[0m 2ms/step - loss: 20531.2676 - val_loss: 13618.5479\n",
      "Epoch 2/25\n",
      "\u001b[1m59489/59489\u001b[0m \u001b[32m━━━━━━━━━━━━━━━━━━━━\u001b[0m\u001b[37m\u001b[0m \u001b[1m122s\u001b[0m 2ms/step - loss: 13400.4746 - val_loss: 12837.8945\n",
      "Epoch 3/25\n",
      "\u001b[1m59489/59489\u001b[0m \u001b[32m━━━━━━━━━━━━━━━━━━━━\u001b[0m\u001b[37m\u001b[0m \u001b[1m119s\u001b[0m 2ms/step - loss: 12584.4541 - val_loss: 12372.1572\n",
      "Epoch 4/25\n",
      "\u001b[1m59489/59489\u001b[0m \u001b[32m━━━━━━━━━━━━━━━━━━━━\u001b[0m\u001b[37m\u001b[0m \u001b[1m122s\u001b[0m 2ms/step - loss: 12170.9863 - val_loss: 12077.5488\n",
      "Epoch 5/25\n",
      "\u001b[1m59489/59489\u001b[0m \u001b[32m━━━━━━━━━━━━━━━━━━━━\u001b[0m\u001b[37m\u001b[0m \u001b[1m135s\u001b[0m 2ms/step - loss: 12005.1182 - val_loss: 11727.8936\n",
      "Epoch 6/25\n",
      "\u001b[1m59489/59489\u001b[0m \u001b[32m━━━━━━━━━━━━━━━━━━━━\u001b[0m\u001b[37m\u001b[0m \u001b[1m128s\u001b[0m 2ms/step - loss: 11846.5371 - val_loss: 11623.1855\n",
      "Epoch 7/25\n",
      "\u001b[1m59489/59489\u001b[0m \u001b[32m━━━━━━━━━━━━━━━━━━━━\u001b[0m\u001b[37m\u001b[0m \u001b[1m120s\u001b[0m 2ms/step - loss: 11791.7949 - val_loss: 11700.3027\n",
      "Epoch 8/25\n",
      "\u001b[1m59489/59489\u001b[0m \u001b[32m━━━━━━━━━━━━━━━━━━━━\u001b[0m\u001b[37m\u001b[0m \u001b[1m121s\u001b[0m 2ms/step - loss: 11716.8857 - val_loss: 11425.3828\n",
      "Epoch 9/25\n",
      "\u001b[1m59489/59489\u001b[0m \u001b[32m━━━━━━━━━━━━━━━━━━━━\u001b[0m\u001b[37m\u001b[0m \u001b[1m130s\u001b[0m 2ms/step - loss: 11624.0215 - val_loss: 11535.1396\n",
      "Epoch 10/25\n",
      "\u001b[1m59489/59489\u001b[0m \u001b[32m━━━━━━━━━━━━━━━━━━━━\u001b[0m\u001b[37m\u001b[0m \u001b[1m134s\u001b[0m 2ms/step - loss: 11557.1211 - val_loss: 11431.0742\n",
      "Epoch 11/25\n",
      "\u001b[1m59489/59489\u001b[0m \u001b[32m━━━━━━━━━━━━━━━━━━━━\u001b[0m\u001b[37m\u001b[0m \u001b[1m131s\u001b[0m 2ms/step - loss: 11465.9443 - val_loss: 11561.4971\n",
      "\u001b[1m   69/41312\u001b[0m \u001b[37m━━━━━━━━━━━━━━━━━━━━\u001b[0m \u001b[1m1:01\u001b[0m 1ms/step  "
     ]
    },
    {
     "name": "stderr",
     "output_type": "stream",
     "text": [
      "/home/raytechie/Projects/adv_mla_at3/ml_experimentation/.venv/lib/python3.10/site-packages/keras/src/models/functional.py:225: UserWarning: The structure of `inputs` doesn't match the expected structure: ['startingAirport', 'destinationAirport', 'AirlineNameScore', 'CabinCode', 'weekday', 'date_diff_days', 'isNonStop', 'isRefundable', 'isBasicEconomy', 'DepartureTimeHour']. Received: the structure of inputs={'startingAirport': '*', 'destinationAirport': '*', 'AirlineNameScore': '*', 'CabinCode': '*', 'DepartureTimeHour': '*', 'date_diff_days': '*', 'weekday': '*', 'isNonStop': '*', 'isRefundable': '*', 'isBasicEconomy': '*'}\n",
      "  warnings.warn(\n"
     ]
    },
    {
     "name": "stdout",
     "output_type": "stream",
     "text": [
      "\u001b[1m41312/41312\u001b[0m \u001b[32m━━━━━━━━━━━━━━━━━━━━\u001b[0m\u001b[37m\u001b[0m \u001b[1m46s\u001b[0m 1ms/step\n",
      "Mean Absolute Error: 70.44334411621094\n",
      "Root Mean Squared Error: 106.79190063476562\n"
     ]
    }
   ],
   "source": [
    "# Features to use\n",
    "categoy_features = ['startingAirport', 'destinationAirport', 'AirlineNameScore', 'CabinCode', ]\n",
    "numerique_features = [ 'weekday' ,'date_diff_days',  'isNonStop' ,'isRefundable', 'isBasicEconomy', 'DepartureTimeHour']\n",
    "# \n",
    "\n",
    "input_dict={\n",
    "    'startingAirport': df_train['startingAirport'],\n",
    "    'destinationAirport': df_train['destinationAirport'],\n",
    "    'AirlineNameScore': df_train['AirlineNameScore'],\n",
    "    'CabinCode': df_train['CabinCode'],\n",
    "    'DepartureTimeHour': df_train['DepartureTimeHour'],\n",
    "    'date_diff_days': df_train['date_diff_days'],\n",
    "    'weekday': df_train['weekday'],\n",
    "    'isNonStop': df_train['isNonStop'],\n",
    "    'isRefundable': df_train['isRefundable'],\n",
    "    'isBasicEconomy': df_train['isBasicEconomy']\n",
    "\n",
    "}\n",
    "\n",
    "model = create_nn()\n",
    "# Train the model with early stopping\n",
    "history = model.fit(\n",
    "    input_dict, \n",
    "    df_train['totalFare'], \n",
    "    epochs=25,  # Set a high number of epochs\n",
    "    batch_size=64, \n",
    "    validation_split=0.2, \n",
    "    callbacks=[early_stopping]  # Include the EarlyStopping callback\n",
    ")\n",
    "\n",
    "# Evaluate the model\n",
    "# predict\n",
    "input_dict_test={\n",
    "    'startingAirport': df_test['startingAirport'],\n",
    "    'destinationAirport': df_test['destinationAirport'],\n",
    "    'AirlineNameScore': df_test['AirlineNameScore'],\n",
    "    'CabinCode': df_test['CabinCode'],\n",
    "    'DepartureTimeHour': df_test['DepartureTimeHour'],\n",
    "    'date_diff_days': df_test['date_diff_days'],\n",
    "    'weekday': df_test['weekday'],\n",
    "    'isNonStop': df_test['isNonStop'],\n",
    "    'isRefundable': df_test['isRefundable'],\n",
    "    'isBasicEconomy': df_test['isBasicEconomy']\n",
    "}\n",
    "\n",
    "y_pred = model.predict(input_dict_test)\n",
    "mae = mean_absolute_error(df_test['totalFare'], y_pred)\n",
    "rmse = root_mean_squared_error(df_test['totalFare'], y_pred)\n",
    "print(f'Mean Absolute Error: {mae}')\n",
    "print(f'Root Mean Squared Error: {rmse}')\n",
    "\n",
    "# Save the model\n",
    "model.save('../models/nns/nn_model3.keras')\n",
    "\n",
    "\n",
    "\n",
    "\n",
    "\n",
    "\n"
   ]
  },
  {
   "cell_type": "code",
   "execution_count": 21,
   "metadata": {},
   "outputs": [],
   "source": [
    "#  Save predictions for test data to a csv file\n",
    "predictions_df = pd.DataFrame(y_pred, columns=['nn_predicted_totalFare'])\n",
    "predictions_df.to_csv('../data/processed/predictions_nn.csv', index=False)\n"
   ]
  },
  {
   "cell_type": "code",
   "execution_count": 22,
   "metadata": {},
   "outputs": [
    {
     "data": {
      "text/plain": [
       "['../models/nns/scaler.joblib']"
      ]
     },
     "execution_count": 22,
     "metadata": {},
     "output_type": "execute_result"
    }
   ],
   "source": [
    "# Save the label encoders and scalers\n",
    "joblib.dump(le_airports, '../models/nns/le_airports.joblib')\n",
    "joblib.dump(scaler, '../models/nns/scaler.joblib')"
   ]
  },
  {
   "cell_type": "markdown",
   "metadata": {},
   "source": [
    "### Plot the loss over Epoch"
   ]
  },
  {
   "cell_type": "code",
   "execution_count": 31,
   "metadata": {},
   "outputs": [
    {
     "data": {
      "image/png": "[encoded data removed]",
      "text/plain": [
       "<Figure size 1400x600 with 1 Axes>"
      ]
     },
     "metadata": {},
     "output_type": "display_data"
    },
    {
     "data": {
      "text/plain": [
       "<Figure size 640x480 with 0 Axes>"
      ]
     },
     "metadata": {},
     "output_type": "display_data"
    }
   ],
   "source": [
    "import seaborn as sns\n",
    "import matplotlib.pyplot as plt\n",
    "\n",
    "# plot the loss\n",
    "def set_custom_theme():\n",
    "    sns.set_style('whitegrid')  # Set the style to whitegrid\n",
    "    sns.set_palette(sns.color_palette(['#a8e6cf', '#dcedc1', '#ffd3b6', '#ffaaa5', '#ff8b94']))  # Set the custom palette\n",
    "    # Manually set font sizes\n",
    "    plt.rc('axes', titlesize=14)     # Font size for axes titles\n",
    "    plt.rc('axes', labelsize=12)     # Font size for x and y labels\n",
    "    plt.rc('xtick', labelsize=10)    # Font size for x tick labels\n",
    "    plt.rc('ytick', labelsize=10)    # Font size for y tick labels\n",
    "    plt.rc('legend', fontsize=12)    # Font size for legend\n",
    "    plt.rc('font', size=12)          # General font size\n",
    "    plt.figure(figsize=(14, 6))\n",
    "# Apply the custom theme\n",
    "set_custom_theme()\n",
    "\n",
    "\n",
    "# Plot the training and validation loss using  sns.lineplot\n",
    "loss = history.history['loss']\n",
    "val_loss = history.history['val_loss']\n",
    "epochs = range(1, len(loss) + 1)\n",
    "sns.lineplot(x=epochs, y=loss, marker='o', label='Training loss')\n",
    "sns.lineplot(x=epochs, y=val_loss, marker='o', label='Validation loss')\n",
    "plt.title('Training and validation loss', pad=20)\n",
    "plt.xlabel('Epochs',labelpad=10)\n",
    "plt.ylabel('Loss',labelpad=10)\n",
    "plt.xticks(epochs)\n",
    "plt.legend()\n",
    "plt.show()\n",
    "\n",
    "# Save the plot\n",
    "plt.savefig('../data/processed/nn_loss_plot.png')"
   ]
  }
 ],
 "metadata": {
  "kernelspec": {
   "display_name": ".venv",
   "language": "python",
   "name": "python3"
  },
  "language_info": {
   "codemirror_mode": {
    "name": "ipython",
    "version": 3
   },
   "file_extension": ".py",
   "mimetype": "text/x-python",
   "name": "python",
   "nbconvert_exporter": "python",
   "pygments_lexer": "ipython3",
   "version": "3.10.12"
  }
 },
 "nbformat": 4,
 "nbformat_minor": 2
}
