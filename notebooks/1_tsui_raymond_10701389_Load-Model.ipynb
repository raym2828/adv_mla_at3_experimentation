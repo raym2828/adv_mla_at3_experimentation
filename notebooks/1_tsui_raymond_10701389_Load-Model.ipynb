{
 "cells": [
  {
   "cell_type": "code",
   "execution_count": 1,
   "metadata": {},
   "outputs": [],
   "source": [
    "import pandas as pd\n",
    "import numpy as np\n",
    "import zipfile \n",
    "import io\n",
    "import os\n",
    "import concurrent.futures\n",
    "import time\n",
    "import subprocess\n",
    "import multiprocessing\n"
   ]
  },
  {
   "cell_type": "markdown",
   "metadata": {},
   "source": [
    "## Function to unzip folder"
   ]
  },
  {
   "cell_type": "code",
   "execution_count": 5,
   "metadata": {},
   "outputs": [
    {
     "name": "stdout",
     "output_type": "stream",
     "text": [
      "Extracted ../data/external/itineraries_csv.zip to ../data/interim\n"
     ]
    }
   ],
   "source": [
    "# Extract the zip and save in interim\n",
    "data_folder = '../data'\n",
    "zip_flight_data= data_folder + '/external/itineraries_csv.zip'\n",
    "\n",
    "extract_directory = data_folder +'/interim'\n",
    "\n",
    "# Read the zip file\n",
    "with zipfile.ZipFile(zip_flight_data, 'r') as z:\n",
    "    z.extractall(extract_directory)\n",
    "\n",
    "print(f\"Extracted {zip_flight_data} to {extract_directory}\")\n",
    "\n"
   ]
  },
  {
   "cell_type": "markdown",
   "metadata": {},
   "source": [
    "## Function to unzip CSV and save them as 1 per airport"
   ]
  },
  {
   "cell_type": "code",
   "execution_count": 8,
   "metadata": {},
   "outputs": [
    {
     "name": "stdout",
     "output_type": "stream",
     "text": [
      "Saved IAD.csv\n",
      "Saved JFK.csv\n",
      "Saved PHL.csv\n",
      "Saved ORD.csv\n",
      "Saved OAK.csv\n",
      "Saved DTW.csv\n",
      "Saved DEN.csv\n",
      "Saved LAX.csv\n",
      "Saved CLT.csv\n",
      "Saved EWR.csv\n",
      "Saved MIA.csv\n",
      "Saved BOS.csv\n",
      "Saved LGA.csv\n",
      "Saved ATL.csv\n",
      "Saved SFO.csv\n",
      "Saved DFW.csv\n",
      "Execution time: 56.55 seconds\n"
     ]
    }
   ],
   "source": [
    "# CHAMPION FILE EXTRACTOR\n",
    "def process_folder(folder):    \n",
    "    df_list = []\n",
    "    files = os.listdir(f\"../data/interim/itineraries_csv/{folder}\")\n",
    "    for file in files:\n",
    "        file_path = f\"../data/interim/itineraries_csv/{folder}/{file}\"\n",
    "        if file.endswith('.zip'):\n",
    "            df=pd.read_csv(file_path, compression='zip')\n",
    "            df_list.append(df)\n",
    "    df_list = pd.concat(df_list)\n",
    "    df_list.to_csv(f\"../data/interim/{folder}.csv\", index=False)\n",
    "    print(f\"Saved {folder}.csv\")\n",
    "root_dir = \"../data/interim/itineraries_csv\"\n",
    "folders = [entry.name for entry in os.scandir(root_dir) if entry.is_dir()]\n",
    "\n",
    "# Measure execution time\n",
    "start_time = time.time()\n",
    "\n",
    "# Limit the number of threads\n",
    "max_threads = 4\n",
    "\n",
    "# Use multiprocessing.Pool to run the folder processing function in parallel\n",
    "with multiprocessing.Pool(processes=max_threads) as pool:\n",
    "    pool.map(process_folder, folders)\n",
    "\n",
    "end_time = time.time()\n",
    "elapsed_time = end_time - start_time\n",
    "print(f\"Execution time: {elapsed_time:.2f} seconds\")"
   ]
  },
  {
   "cell_type": "code",
   "execution_count": 9,
   "metadata": {},
   "outputs": [
    {
     "name": "stdout",
     "output_type": "stream",
     "text": [
      "Removed folders\n"
     ]
    }
   ],
   "source": [
    "# Remove the processed folders to save storage space\n",
    "subprocess.run(f\"rm -rf ../data/interim/itineraries_csv\", shell=True)\n",
    "subprocess.run(f\"rm -rf ../data/interim/__MACOSX\", shell=True)\n",
    "print(\"Removed folders\")\n"
   ]
  },
  {
   "cell_type": "code",
   "execution_count": 2,
   "metadata": {},
   "outputs": [],
   "source": [
    "df = pd.read_csv('../data/interim/ATL.csv')\n"
   ]
  },
  {
   "cell_type": "code",
   "execution_count": 3,
   "metadata": {},
   "outputs": [
    {
     "name": "stdout",
     "output_type": "stream",
     "text": [
      "<class 'pandas.core.frame.DataFrame'>\n",
      "RangeIndex: 874069 entries, 0 to 874068\n",
      "Data columns (total 23 columns):\n",
      " #   Column                             Non-Null Count   Dtype  \n",
      "---  ------                             --------------   -----  \n",
      " 0   legId                              874069 non-null  object \n",
      " 1   searchDate                         874069 non-null  object \n",
      " 2   flightDate                         874069 non-null  object \n",
      " 3   startingAirport                    874069 non-null  object \n",
      " 4   destinationAirport                 874069 non-null  object \n",
      " 5   travelDuration                     874069 non-null  object \n",
      " 6   isBasicEconomy                     874069 non-null  bool   \n",
      " 7   isRefundable                       874069 non-null  bool   \n",
      " 8   isNonStop                          874069 non-null  bool   \n",
      " 9   totalFare                          874069 non-null  float64\n",
      " 10  totalTravelDistance                769021 non-null  float64\n",
      " 11  segmentsDepartureTimeEpochSeconds  874069 non-null  object \n",
      " 12  segmentsDepartureTimeRaw           874069 non-null  object \n",
      " 13  segmentsArrivalTimeEpochSeconds    874069 non-null  object \n",
      " 14  segmentsArrivalTimeRaw             874069 non-null  object \n",
      " 15  segmentsArrivalAirportCode         874069 non-null  object \n",
      " 16  segmentsDepartureAirportCode       874069 non-null  object \n",
      " 17  segmentsAirlineName                874069 non-null  object \n",
      " 18  segmentsAirlineCode                874069 non-null  object \n",
      " 19  segmentsEquipmentDescription       848482 non-null  object \n",
      " 20  segmentsDurationInSeconds          874069 non-null  object \n",
      " 21  segmentsDistance                   856849 non-null  object \n",
      " 22  segmentsCabinCode                  874069 non-null  object \n",
      "dtypes: bool(3), float64(2), object(18)\n",
      "memory usage: 135.9+ MB\n"
     ]
    }
   ],
   "source": [
    "df.describe( include='all') \n",
    "df.info()"
   ]
  },
  {
   "cell_type": "markdown",
   "metadata": {},
   "source": [
    "## Clean up data"
   ]
  },
  {
   "cell_type": "code",
   "execution_count": 4,
   "metadata": {},
   "outputs": [],
   "source": [
    "# Function to clean and convert the data\n",
    "def transform_data(df):\n",
    "\n",
    "    # Convert date columns\n",
    "    date_columns = ['searchDate', 'flightDate']\n",
    "    df[date_columns] = df[date_columns].apply(pd.to_datetime)\n",
    "\n",
    "    # Convert float to numeric\n",
    "    float_columns = ['totalFare','totalTravelDistance']\n",
    "    for col in float_columns:\n",
    "        df[col] = pd.to_numeric(df[col],errors='coerce').astype('float32')\n",
    "\n",
    "       \n",
    "\n",
    "\n",
    "    # Drop rows\n",
    "    df = df.dropna(subset=['segmentsEquipmentDescription','segmentsAirlineName'])\n",
    "    return df\n",
    "\n",
    "    \n"
   ]
  },
  {
   "cell_type": "code",
   "execution_count": 15,
   "metadata": {},
   "outputs": [],
   "source": [
    "# covert the segment data into new variables\n",
    "\n",
    "airports= ['ATL','BOS','DEN','DFW','EWR','JFK','LAX','LGA','MIA','OAK','ORD','PHL','SFO']\n",
    "# dictionary for the correct time offsets\n",
    "time_offsets = {'ATL': '-04:00', 'BOS' : '-04:00' , 'DEN':'-06:00', 'DFW':'-05:00' ,'EWR':'-04:00',   'JFK': '-04:00','LAX': '-07:00', 'LGA': '-04:00', 'MIA': '-04:00', 'OAK': '-07:00', 'ORD': '-05:00', 'PHL': '-04:00', 'SFO': '-07:00'}\n",
    "\n",
    "\n",
    "def process_segments(df):\n",
    "    # Split the departure time\n",
    "    print(\"Shape before processing: \", df.shape)\n",
    "    df[\"segmentsDepartureTimeRaw_hour\"] = df[\"segmentsDepartureTimeRaw\"].str.split(\"|\").str[0]\n",
    "    airportcode = df[\"startingAirport\"][0]\n",
    "    correct_time_offset = time_offsets[airportcode]\n",
    "\n",
    "    # filter for departure time hour that has the correct time offset\n",
    "    df = df[df[\"segmentsDepartureTimeRaw_hour\"].str[-6:] == correct_time_offset]\n",
    "    print(\"Shape after processing departure time: \", df.shape)\n",
    "\n",
    "    # check date difference between the  segmentsDepartureTimeRaw_hour aNd flight date and eliminate any that dont match\n",
    "    df[\"segmentsDepartureTimeRaw_hour\"] = pd.to_datetime(\n",
    "        df[\"segmentsDepartureTimeRaw_hour\"]\n",
    "    ).dt.tz_localize(None)\n",
    "    df = df[(df[\"segmentsDepartureTimeRaw_hour\"] - df[\"flightDate\"]).dt.days == 0]\n",
    "    print(\"Shape after filtering segment departure not the same as flight date: \", df.shape)\n",
    "\n",
    "    return df"
   ]
  },
  {
   "cell_type": "code",
   "execution_count": 16,
   "metadata": {},
   "outputs": [
    {
     "name": "stdout",
     "output_type": "stream",
     "text": [
      "Shape before processing:  (848482, 23)\n"
     ]
    },
    {
     "name": "stderr",
     "output_type": "stream",
     "text": [
      "/tmp/ipykernel_1121/2497379427.py:10: SettingWithCopyWarning: \n",
      "A value is trying to be set on a copy of a slice from a DataFrame.\n",
      "Try using .loc[row_indexer,col_indexer] = value instead\n",
      "\n",
      "See the caveats in the documentation: https://pandas.pydata.org/pandas-docs/stable/user_guide/indexing.html#returning-a-view-versus-a-copy\n",
      "  df['segmentsDepartureTimeRaw_hour'] = (df['segmentsDepartureTimeRaw'].str.split('|').str[0])\n"
     ]
    },
    {
     "name": "stdout",
     "output_type": "stream",
     "text": [
      "Shape after processing departure time:  (848474, 24)\n"
     ]
    },
    {
     "name": "stderr",
     "output_type": "stream",
     "text": [
      "/tmp/ipykernel_1121/2497379427.py:19: SettingWithCopyWarning: \n",
      "A value is trying to be set on a copy of a slice from a DataFrame.\n",
      "Try using .loc[row_indexer,col_indexer] = value instead\n",
      "\n",
      "See the caveats in the documentation: https://pandas.pydata.org/pandas-docs/stable/user_guide/indexing.html#returning-a-view-versus-a-copy\n",
      "  df['segmentsDepartureTimeRaw_hour'] = pd.to_datetime(df['segmentsDepartureTimeRaw_hour']).dt.tz_localize(None)\n"
     ]
    },
    {
     "name": "stdout",
     "output_type": "stream",
     "text": [
      "Shape after filtering segment departure not the same as flight date:  (848468, 24)\n"
     ]
    }
   ],
   "source": [
    "df_segments = process_segments(transform_data(df))"
   ]
  },
  {
   "cell_type": "code",
   "execution_count": 3,
   "metadata": {},
   "outputs": [],
   "source": [
    "airport_timezone = pd.read_csv('../data/LOOKUP TABLE/airports_and_timezones.csv')"
   ]
  },
  {
   "cell_type": "code",
   "execution_count": 6,
   "metadata": {},
   "outputs": [
    {
     "name": "stdout",
     "output_type": "stream",
     "text": [
      "Unique values in DEN: ['DEN']\n",
      "Unique values in ATL: ['ATL']\n",
      "Unique values in DFW: ['DFW']\n",
      "Unique values in BOS: ['BOS']\n",
      "Duplicates in DEN: 0\n",
      "Negative totalFare in DEN: 0\n",
      "Duplicates in ATL: 0\n",
      "Negative totalFare in ATL: 0\n",
      "Duplicates in DFW: 0\n",
      "Negative totalFare in DFW: 0\n",
      "Duplicates in BOS: 0\n",
      "Negative totalFare in BOS: 0\n",
      "Departure Time time zones in DEN: segmentsDepartureTimeRaw_hour\n",
      "-06:00    770429\n",
      "Name: count, dtype: int64\n",
      "Departure Time time zones in ATL: segmentsDepartureTimeRaw_hour\n",
      "-04:00    874061\n",
      "-05:00         8\n",
      "Name: count, dtype: int64\n",
      "Departure Time time zones in DFW: segmentsDepartureTimeRaw_hour\n",
      "-05:00    896592\n",
      "-04:00         4\n",
      "Name: count, dtype: int64\n",
      "Departure Time time zones in BOS: segmentsDepartureTimeRaw_hour\n",
      "-04:00    989175\n",
      "Name: count, dtype: int64\n",
      "Unique values in JFK: ['JFK']\n",
      "Unique values in EWR: ['EWR']\n",
      "Duplicates in JFK: 0\n",
      "Negative totalFare in JFK: 0\n",
      "Duplicates in EWR: 0\n",
      "Negative totalFare in EWR: 0\n",
      "Departure Time time zones in JFK: segmentsDepartureTimeRaw_hour\n",
      "-04:00    688263\n",
      "Name: count, dtype: int64\n",
      "Departure Time time zones in EWR: segmentsDepartureTimeRaw_hour\n",
      "-04:00    699628\n",
      "Name: count, dtype: int64\n",
      "Unique values in LGA: ['LGA']\n",
      "Unique values in LAX: ['LAX']\n",
      "Duplicates in LGA: 0\n",
      "Negative totalFare in LGA: 0\n",
      "Unique values in OAK: ['OAK']\n",
      "Departure Time time zones in LGA: segmentsDepartureTimeRaw_hour\n",
      "-04:00    1021938\n",
      "Name: count, dtype: int64\n",
      "Duplicates in OAK: 0\n",
      "Negative totalFare in OAK: 0\n",
      "Unique values in MIA: ['MIA']\n",
      "Duplicates in LAX: 0\n",
      "Negative totalFare in LAX: 0\n",
      "Departure Time time zones in OAK: segmentsDepartureTimeRaw_hour\n",
      "-07:00    527022\n",
      "-04:00        83\n",
      "Name: count, dtype: int64\n",
      "Duplicates in MIA: 0\n",
      "Negative totalFare in MIA: 0\n",
      "Departure Time time zones in MIA: segmentsDepartureTimeRaw_hour\n",
      "-04:00    875285\n",
      "-07:00         3\n",
      "Name: count, dtype: int64\n",
      "Departure Time time zones in LAX: segmentsDepartureTimeRaw_hour\n",
      "-07:00    1352275\n",
      "Name: count, dtype: int64\n",
      "Unique values in ORD: ['ORD']\n",
      "Unique values in PHL: ['PHL']\n",
      "Duplicates in ORD: 0\n",
      "Negative totalFare in ORD: 0\n",
      "Duplicates in PHL: 0\n",
      "Negative totalFare in PHL: 0\n",
      "Departure Time time zones in ORD: segmentsDepartureTimeRaw_hour\n",
      "-05:00    894646\n",
      "Name: count, dtype: int64\n",
      "Unique values in SFO: ['SFO']\n",
      "Departure Time time zones in PHL: segmentsDepartureTimeRaw_hour\n",
      "-04:00    785039\n",
      "Name: count, dtype: int64\n",
      "Duplicates in SFO: 0\n",
      "Negative totalFare in SFO: 0\n",
      "Departure Time time zones in SFO: segmentsDepartureTimeRaw_hour\n",
      "-07:00    949046\n",
      "Name: count, dtype: int64\n"
     ]
    }
   ],
   "source": [
    "def return_timezone(airport_code):\n",
    "    try:\n",
    "        return airport_timezone[airport_timezone['iata'] == airport_code]['gmt_offset'].values[0]*-1\n",
    "    except:\n",
    "        return np.nan\n",
    "\n",
    "def run_error_check(airport):\n",
    "    df = pd.read_csv(f'../data/interim/{airport}.csv')\n",
    "    print(f\"Unique values in {airport}: {df['startingAirport'].unique()}\")\n",
    "\n",
    "    # Check for duplicates\n",
    "    duplicates = df.duplicated().sum()\n",
    "    print(f\"Duplicates in {airport}: {duplicates}\")\n",
    "\n",
    "    # Check for negative totalFare\n",
    "    negative_fare = (df['totalFare'] < 0).sum()\n",
    "    print(f\"Negative totalFare in {airport}: {negative_fare}\")\n",
    "\n",
    "    # Check the values in segment Departure time raw and what values they end in\n",
    "    df['segmentsDepartureTimeRaw_hour'] = (df['segmentsDepartureTimeRaw'].str.split('|').str[0])\n",
    "    print(f\"Departure Time time zones in {airport}:\",df['segmentsDepartureTimeRaw_hour'].str[-6:].value_counts())\n",
    "\n",
    "    # time_zone = return_timezone(airport)\n",
    "    \n",
    "    # df['segmentsDepartureTimeRaw_sec'] = pd.to_datetime(df['segmentsDepartureTimeEpochSeconds'].str.split('|').str[0], unit='s').dt.tz_localize('UTC').dt.tz_convert(f'Etc/GMT+{time_zone}')\n",
    "    # df['segmentsDepartureTimeRaw_sec_date'] = df['segmentsDepartureTimeRaw_sec'].dt.date\n",
    "    # df['flightDate'] = pd.to_datetime(df['flightDate']).dt.date\n",
    "    # mismatch_dates=df[df['segmentsDepartureTimeRaw_sec_date'] - df['flightDate'] > 2]  \n",
    "\n",
    "    # print(f\"Number of mismatched dates in {airport}: \",mismatch_dates.value_counts())\n",
    "    \n",
    "    return \n",
    "\n",
    "# run_error_check('ATL')\n",
    "\n",
    "airports= ['ATL','BOS','DEN','DFW','EWR','JFK','LAX','LGA','MIA','OAK','ORD','PHL','SFO']\n",
    "\n",
    "# for airport in airports:\n",
    "#     run_error_check(airport)\n",
    "\n",
    "# Limit the number of threads\n",
    "max_threads = 4\n",
    "\n",
    "# Use multiprocessing.Pool to run the folder processing function in parallel\n",
    "with multiprocessing.Pool(processes=max_threads) as pool:\n",
    "    pool.map(run_error_check, airports)\n",
    "    \n",
    "    \n",
    "# df = pd.read_csv('../data/interim/BOS.csv')\n",
    "# mismatch_dates= error_check(transform_data(df))"
   ]
  },
  {
   "cell_type": "code",
   "execution_count": null,
   "metadata": {},
   "outputs": [],
   "source": [
    "eRROR IN \n",
    "DFW AND atl OAK MIA"
   ]
  },
  {
   "cell_type": "code",
   "execution_count": 47,
   "metadata": {},
   "outputs": [],
   "source": [
    "df_clean = transform_data(df)"
   ]
  },
  {
   "cell_type": "code",
   "execution_count": 27,
   "metadata": {},
   "outputs": [
    {
     "name": "stdout",
     "output_type": "stream",
     "text": [
      "<class 'pandas.core.frame.DataFrame'>\n",
      "Index: 848482 entries, 0 to 874068\n",
      "Data columns (total 23 columns):\n",
      " #   Column                             Non-Null Count   Dtype         \n",
      "---  ------                             --------------   -----         \n",
      " 0   legId                              848482 non-null  object        \n",
      " 1   searchDate                         848482 non-null  datetime64[ns]\n",
      " 2   flightDate                         848482 non-null  datetime64[ns]\n",
      " 3   startingAirport                    848482 non-null  object        \n",
      " 4   destinationAirport                 848482 non-null  object        \n",
      " 5   travelDuration                     848482 non-null  object        \n",
      " 6   isBasicEconomy                     848482 non-null  bool          \n",
      " 7   isRefundable                       848482 non-null  bool          \n",
      " 8   isNonStop                          848482 non-null  bool          \n",
      " 9   totalFare                          848482 non-null  float32       \n",
      " 10  totalTravelDistance                749397 non-null  float32       \n",
      " 11  segmentsDepartureTimeEpochSeconds  848482 non-null  object        \n",
      " 12  segmentsDepartureTimeRaw           848482 non-null  object        \n",
      " 13  segmentsArrivalTimeEpochSeconds    848482 non-null  object        \n",
      " 14  segmentsArrivalTimeRaw             848482 non-null  object        \n",
      " 15  segmentsArrivalAirportCode         848482 non-null  object        \n",
      " 16  segmentsDepartureAirportCode       848482 non-null  object        \n",
      " 17  segmentsAirlineName                848482 non-null  object        \n",
      " 18  segmentsAirlineCode                848482 non-null  object        \n",
      " 19  segmentsEquipmentDescription       848482 non-null  object        \n",
      " 20  segmentsDurationInSeconds          848482 non-null  object        \n",
      " 21  segmentsDistance                   837225 non-null  object        \n",
      " 22  segmentsCabinCode                  848482 non-null  object        \n",
      "dtypes: bool(3), datetime64[ns](2), float32(2), object(16)\n",
      "memory usage: 131.9+ MB\n"
     ]
    }
   ],
   "source": [
    "df_clean.info()"
   ]
  },
  {
   "cell_type": "markdown",
   "metadata": {},
   "source": [
    "## Run some graphs to visualise the data"
   ]
  },
  {
   "cell_type": "code",
   "execution_count": 64,
   "metadata": {},
   "outputs": [],
   "source": [
    "# function to plot the data\n",
    "import numpy as np\n",
    "import pandas as pd\n",
    "import seaborn as sns\n",
    "import matplotlib.pyplot as plt\n",
    "\n",
    "\n",
    "\n",
    "\n",
    "# Function to plot the data\n",
    "def plot_data(df):\n",
    "    # Plot the total fare distribution\n",
    "    sns.histplot(df['totalFare'], kde=True)\n",
    "    plt.title('Total Fare Distribution')\n",
    "    plt.show()\n",
    "\n",
    "    # Plot the total travel distance distribution\n",
    "    sns.histplot(df['totalTravelDistance'], kde=True)\n",
    "    plt.title('Total Travel Distance Distribution')\n",
    "    plt.show()\n",
    "\n",
    "    # #plot the segmentsAirlineCode, destinationAirport, segmentCabinCode in a facet grid\n",
    "    # sns.catplot(data=df, kind='count', x='segmentsAirlineCode', col='destinationAirport', row='segmentsCabinCode')\n",
    "    # plt.show()\n",
    "\n",
    "    # Plot the total fare vs total travel distance\n",
    "    sns.scatterplot(data=df, x='totalFare', y='totalTravelDistance')\n",
    "    plt.title('Total Fare vs Total Travel Distance')\n",
    "    plt.show()\n",
    "\n",
    "    # Plot the destination city vs total fare\n",
    "    sns.catplot(data=df,kind='violin', x='destinationAirport', y='totalFare') \n",
    "\n",
    "    # Plot the arrival time vs total fare\n",
    "    sns.catplot(data=df,kind='violin', x='segmentsDepartureTimeRaw_hour', y='totalFare')\n",
    "\n",
    "    # Plot the distributions of total fare by isNonStop, isRefundable, and isBasicEconomy\n",
    "    sns.catplot(data=df,kind='violin', x='isNonStop', y='totalFare')\n",
    "    sns.catplot(data=df,kind='violin', x='isRefundable', y='totalFare')\n",
    "    sns.catplot(data=df,kind='violin', x='isBasicEconomy', y='totalFare')\n",
    "\n",
    "    plt.show()\n",
    "\n",
    "\n",
    "\n"
   ]
  },
  {
   "cell_type": "code",
   "execution_count": 266,
   "metadata": {},
   "outputs": [
    {
     "name": "stderr",
     "output_type": "stream",
     "text": [
      "/tmp/ipykernel_1177/2460459236.py:5: FutureWarning: The behavior of 'to_datetime' with 'unit' when parsing strings is deprecated. In a future version, strings will be parsed as datetime strings, matching the behavior without a 'unit'. To retain the old behavior, explicitly cast ints or floats to numeric type before calling to_datetime.\n",
      "  df['segmentsDepartureTimeRaw_sec']= pd.to_datetime(df['segmentsDepartureTimeEpochSeconds'].str.split('|').str[0],unit='s')\n"
     ]
    }
   ],
   "source": [
    "# Function to parse the segment time\n",
    "def parse_segment_time(df):\n",
    "    # df['segmentsDepartureTimeRaw_hour'] = df['segmentsDepartureTimeRaw'].string() #pd.to_datetime   .str[0]).dt.hour\n",
    "    df['segmentsDepartureTimeRaw_hour'] = (df['segmentsDepartureTimeRaw'].str.split('|').str[0]) # pd.to_datetime  .dt.hour ,errors='coerce'\n",
    "    df['segmentsDepartureTimeRaw_sec']= pd.to_datetime(df['segmentsDepartureTimeEpochSeconds'].str.split('|').str[0],unit='s')\n",
    "\n",
    "    return df\n",
    "df_clean_test = parse_segment_time(df)\n",
    "filtered_df = df_clean_test[~df_clean_test['segmentsDepartureTimeRaw_hour'].str.endswith('-04:00', na=False)]"
   ]
  },
  {
   "cell_type": "code",
   "execution_count": 230,
   "metadata": {},
   "outputs": [
    {
     "name": "stderr",
     "output_type": "stream",
     "text": [
      "/tmp/ipykernel_1177/1325915397.py:4: FutureWarning: In a future version of pandas, parsing datetimes with mixed time zones will raise an error unless `utc=True`. Please specify `utc=True` to opt in to the new behaviour and silence this warning. To create a `Series` with mixed offsets and `object` dtype, please use `apply` and `datetime.datetime.strptime`\n",
      "  df['segmentsDepartureTimeRaw_hour'] = pd.to_datetime(df['segmentsDepartureTimeRaw'].str.split('|').str[0]) #   .dt.hour ,errors='coerce'\n",
      "/tmp/ipykernel_1177/1325915397.py:4: SettingWithCopyWarning: \n",
      "A value is trying to be set on a copy of a slice from a DataFrame.\n",
      "Try using .loc[row_indexer,col_indexer] = value instead\n",
      "\n",
      "See the caveats in the documentation: https://pandas.pydata.org/pandas-docs/stable/user_guide/indexing.html#returning-a-view-versus-a-copy\n",
      "  df['segmentsDepartureTimeRaw_hour'] = pd.to_datetime(df['segmentsDepartureTimeRaw'].str.split('|').str[0]) #   .dt.hour ,errors='coerce'\n"
     ]
    },
    {
     "ename": "AttributeError",
     "evalue": "Can only use .dt accessor with datetimelike values",
     "output_type": "error",
     "traceback": [
      "\u001b[0;31m---------------------------------------------------------------------------\u001b[0m",
      "\u001b[0;31mAttributeError\u001b[0m                            Traceback (most recent call last)",
      "Cell \u001b[0;32mIn[230], line 10\u001b[0m\n\u001b[1;32m      6\u001b[0m     \u001b[38;5;28;01mreturn\u001b[39;00m df\n\u001b[1;32m      8\u001b[0m df_clean_test \u001b[38;5;241m=\u001b[39m parse_segment_time(df_clean[\u001b[38;5;241m434378\u001b[39m:\u001b[38;5;241m434380\u001b[39m])\n\u001b[0;32m---> 10\u001b[0m \u001b[43mdf_clean_test\u001b[49m\u001b[43m[\u001b[49m\u001b[38;5;124;43m'\u001b[39;49m\u001b[38;5;124;43msegmentsDepartureTimeRaw_hour\u001b[39;49m\u001b[38;5;124;43m'\u001b[39;49m\u001b[43m]\u001b[49m\u001b[38;5;241;43m.\u001b[39;49m\u001b[43mdt\u001b[49m\u001b[38;5;241m.\u001b[39mhour\n\u001b[1;32m     12\u001b[0m \u001b[38;5;28mprint\u001b[39m(df_clean_test[\u001b[38;5;124m'\u001b[39m\u001b[38;5;124msegmentsDepartureTimeRaw_hour\u001b[39m\u001b[38;5;124m'\u001b[39m]\u001b[38;5;241m.\u001b[39mdtype)\n\u001b[1;32m     14\u001b[0m df_clean_error\u001b[38;5;241m=\u001b[39mdf_clean[[\u001b[38;5;124m'\u001b[39m\u001b[38;5;124msegmentsDepartureTimeRaw\u001b[39m\u001b[38;5;124m'\u001b[39m,\u001b[38;5;124m'\u001b[39m\u001b[38;5;124msegmentsDepartureTimeRaw_hour\u001b[39m\u001b[38;5;124m'\u001b[39m]]\n",
      "File \u001b[0;32m~/Projects/adv_mla_at3/ml_experimentation/.venv/lib/python3.10/site-packages/pandas/core/generic.py:6299\u001b[0m, in \u001b[0;36mNDFrame.__getattr__\u001b[0;34m(self, name)\u001b[0m\n\u001b[1;32m   6292\u001b[0m \u001b[38;5;28;01mif\u001b[39;00m (\n\u001b[1;32m   6293\u001b[0m     name \u001b[38;5;129;01mnot\u001b[39;00m \u001b[38;5;129;01min\u001b[39;00m \u001b[38;5;28mself\u001b[39m\u001b[38;5;241m.\u001b[39m_internal_names_set\n\u001b[1;32m   6294\u001b[0m     \u001b[38;5;129;01mand\u001b[39;00m name \u001b[38;5;129;01mnot\u001b[39;00m \u001b[38;5;129;01min\u001b[39;00m \u001b[38;5;28mself\u001b[39m\u001b[38;5;241m.\u001b[39m_metadata\n\u001b[1;32m   6295\u001b[0m     \u001b[38;5;129;01mand\u001b[39;00m name \u001b[38;5;129;01mnot\u001b[39;00m \u001b[38;5;129;01min\u001b[39;00m \u001b[38;5;28mself\u001b[39m\u001b[38;5;241m.\u001b[39m_accessors\n\u001b[1;32m   6296\u001b[0m     \u001b[38;5;129;01mand\u001b[39;00m \u001b[38;5;28mself\u001b[39m\u001b[38;5;241m.\u001b[39m_info_axis\u001b[38;5;241m.\u001b[39m_can_hold_identifiers_and_holds_name(name)\n\u001b[1;32m   6297\u001b[0m ):\n\u001b[1;32m   6298\u001b[0m     \u001b[38;5;28;01mreturn\u001b[39;00m \u001b[38;5;28mself\u001b[39m[name]\n\u001b[0;32m-> 6299\u001b[0m \u001b[38;5;28;01mreturn\u001b[39;00m \u001b[38;5;28;43mobject\u001b[39;49m\u001b[38;5;241;43m.\u001b[39;49m\u001b[38;5;21;43m__getattribute__\u001b[39;49m\u001b[43m(\u001b[49m\u001b[38;5;28;43mself\u001b[39;49m\u001b[43m,\u001b[49m\u001b[43m \u001b[49m\u001b[43mname\u001b[49m\u001b[43m)\u001b[49m\n",
      "File \u001b[0;32m~/Projects/adv_mla_at3/ml_experimentation/.venv/lib/python3.10/site-packages/pandas/core/accessor.py:224\u001b[0m, in \u001b[0;36mCachedAccessor.__get__\u001b[0;34m(self, obj, cls)\u001b[0m\n\u001b[1;32m    221\u001b[0m \u001b[38;5;28;01mif\u001b[39;00m obj \u001b[38;5;129;01mis\u001b[39;00m \u001b[38;5;28;01mNone\u001b[39;00m:\n\u001b[1;32m    222\u001b[0m     \u001b[38;5;66;03m# we're accessing the attribute of the class, i.e., Dataset.geo\u001b[39;00m\n\u001b[1;32m    223\u001b[0m     \u001b[38;5;28;01mreturn\u001b[39;00m \u001b[38;5;28mself\u001b[39m\u001b[38;5;241m.\u001b[39m_accessor\n\u001b[0;32m--> 224\u001b[0m accessor_obj \u001b[38;5;241m=\u001b[39m \u001b[38;5;28;43mself\u001b[39;49m\u001b[38;5;241;43m.\u001b[39;49m\u001b[43m_accessor\u001b[49m\u001b[43m(\u001b[49m\u001b[43mobj\u001b[49m\u001b[43m)\u001b[49m\n\u001b[1;32m    225\u001b[0m \u001b[38;5;66;03m# Replace the property with the accessor object. Inspired by:\u001b[39;00m\n\u001b[1;32m    226\u001b[0m \u001b[38;5;66;03m# https://www.pydanny.com/cached-property.html\u001b[39;00m\n\u001b[1;32m    227\u001b[0m \u001b[38;5;66;03m# We need to use object.__setattr__ because we overwrite __setattr__ on\u001b[39;00m\n\u001b[1;32m    228\u001b[0m \u001b[38;5;66;03m# NDFrame\u001b[39;00m\n\u001b[1;32m    229\u001b[0m \u001b[38;5;28mobject\u001b[39m\u001b[38;5;241m.\u001b[39m\u001b[38;5;21m__setattr__\u001b[39m(obj, \u001b[38;5;28mself\u001b[39m\u001b[38;5;241m.\u001b[39m_name, accessor_obj)\n",
      "File \u001b[0;32m~/Projects/adv_mla_at3/ml_experimentation/.venv/lib/python3.10/site-packages/pandas/core/indexes/accessors.py:643\u001b[0m, in \u001b[0;36mCombinedDatetimelikeProperties.__new__\u001b[0;34m(cls, data)\u001b[0m\n\u001b[1;32m    640\u001b[0m \u001b[38;5;28;01melif\u001b[39;00m \u001b[38;5;28misinstance\u001b[39m(data\u001b[38;5;241m.\u001b[39mdtype, PeriodDtype):\n\u001b[1;32m    641\u001b[0m     \u001b[38;5;28;01mreturn\u001b[39;00m PeriodProperties(data, orig)\n\u001b[0;32m--> 643\u001b[0m \u001b[38;5;28;01mraise\u001b[39;00m \u001b[38;5;167;01mAttributeError\u001b[39;00m(\u001b[38;5;124m\"\u001b[39m\u001b[38;5;124mCan only use .dt accessor with datetimelike values\u001b[39m\u001b[38;5;124m\"\u001b[39m)\n",
      "\u001b[0;31mAttributeError\u001b[0m: Can only use .dt accessor with datetimelike values"
     ]
    }
   ],
   "source": [
    "\n",
    "# Function to parse the segment time\n",
    "def parse_segment_time(df):\n",
    "    # df['segmentsDepartureTimeRaw_hour'] = df['segmentsDepartureTimeRaw'].string() #pd.to_datetime   .str[0]).dt.hour\n",
    "    df['segmentsDepartureTimeRaw_hour'] = pd.to_datetime(df['segmentsDepartureTimeRaw'].str.split('|').str[0]) #   .dt.hour ,errors='coerce'\n",
    "\n",
    "    return df\n",
    "\n",
    "df_clean_test = parse_segment_time(df_clean[434378:434380])\n",
    "\n",
    "df_clean_test['segmentsDepartureTimeRaw_hour'].dt.hour\n",
    "\n",
    "print(df_clean_test['segmentsDepartureTimeRaw_hour'].dtype)\n",
    "\n",
    "df_clean_error=df_clean[['segmentsDepartureTimeRaw','segmentsDepartureTimeRaw_hour']]\n",
    "\n",
    "# df['segmentsDepartureTimeRaw_hour_new'] = df['segmentsDepartureTimeRaw_hour'].dt.hour\n",
    "\n",
    "# df_clean_test[['segmentsDepartureTimeRaw','segmentsDepartureTimeRaw_hour']]\n"
   ]
  },
  {
   "cell_type": "code",
   "execution_count": 174,
   "metadata": {},
   "outputs": [
    {
     "name": "stdout",
     "output_type": "stream",
     "text": [
      "datetime64[ns, UTC-04:00]\n"
     ]
    }
   ],
   "source": []
  },
  {
   "cell_type": "code",
   "execution_count": 113,
   "metadata": {},
   "outputs": [
    {
     "data": {
      "text/html": [
       "<div>\n",
       "<style scoped>\n",
       "    .dataframe tbody tr th:only-of-type {\n",
       "        vertical-align: middle;\n",
       "    }\n",
       "\n",
       "    .dataframe tbody tr th {\n",
       "        vertical-align: top;\n",
       "    }\n",
       "\n",
       "    .dataframe thead th {\n",
       "        text-align: right;\n",
       "    }\n",
       "</style>\n",
       "<table border=\"1\" class=\"dataframe\">\n",
       "  <thead>\n",
       "    <tr style=\"text-align: right;\">\n",
       "      <th></th>\n",
       "      <th>segmentsDepartureTimeRaw</th>\n",
       "      <th>segmentsDepartureTimeRaw_hour</th>\n",
       "    </tr>\n",
       "  </thead>\n",
       "  <tbody>\n",
       "  </tbody>\n",
       "</table>\n",
       "</div>"
      ],
      "text/plain": [
       "Empty DataFrame\n",
       "Columns: [segmentsDepartureTimeRaw, segmentsDepartureTimeRaw_hour]\n",
       "Index: []"
      ]
     },
     "execution_count": 113,
     "metadata": {},
     "output_type": "execute_result"
    }
   ],
   "source": [
    "# filter values that are not datetime type\n",
    "df_clean_test_filtered = df_clean_test[df_clean_test['segmentsDepartureTimeRaw_hour'].isnull()]\n",
    "\n",
    "df_clean_test_filtered[['segmentsDepartureTimeRaw','segmentsDepartureTimeRaw_hour']]\n"
   ]
  },
  {
   "cell_type": "code",
   "execution_count": 77,
   "metadata": {},
   "outputs": [
    {
     "data": {
      "image/png": "[encoded data removed]",
      "text/plain": [
       "<Figure size 640x480 with 1 Axes>"
      ]
     },
     "metadata": {},
     "output_type": "display_data"
    }
   ],
   "source": [
    "# visualise segment departure time\n",
    "sns.histplot(df_clean_test['segmentsDepartureTimeRaw_hour'], kde=True)\n",
    "plt.title('Segment Departure Time Distribution')\n",
    "plt.show()\n"
   ]
  },
  {
   "cell_type": "code",
   "execution_count": 66,
   "metadata": {},
   "outputs": [
    {
     "name": "stderr",
     "output_type": "stream",
     "text": [
      "/tmp/ipykernel_1177/2902269671.py:11: FutureWarning: In a future version of pandas, parsing datetimes with mixed time zones will raise an error unless `utc=True`. Please specify `utc=True` to opt in to the new behaviour and silence this warning. To create a `Series` with mixed offsets and `object` dtype, please use `apply` and `datetime.datetime.strptime`\n",
      "  df['segmentsDepartureTimeRaw_hour'] = pd.to_datetime(df['segmentsDepartureTimeRaw'].str.split('|').str[0]).dt.hour #   .dt.hour\n"
     ]
    },
    {
     "ename": "AttributeError",
     "evalue": "Can only use .dt accessor with datetimelike values",
     "output_type": "error",
     "traceback": [
      "\u001b[0;31m---------------------------------------------------------------------------\u001b[0m",
      "\u001b[0;31mAttributeError\u001b[0m                            Traceback (most recent call last)",
      "Cell \u001b[0;32mIn[66], line 1\u001b[0m\n\u001b[0;32m----> 1\u001b[0m \u001b[43mparse_segment_time\u001b[49m\u001b[43m(\u001b[49m\u001b[43mdf_clean\u001b[49m\u001b[43m)\u001b[49m\n\u001b[1;32m      2\u001b[0m plot_data(df_clean)\n",
      "Cell \u001b[0;32mIn[64], line 11\u001b[0m, in \u001b[0;36mparse_segment_time\u001b[0;34m(df)\u001b[0m\n\u001b[1;32m      9\u001b[0m \u001b[38;5;28;01mdef\u001b[39;00m \u001b[38;5;21mparse_segment_time\u001b[39m(df):\n\u001b[1;32m     10\u001b[0m     \u001b[38;5;66;03m# df['segmentsDepartureTimeRaw_hour'] = df['segmentsDepartureTimeRaw'].string() #pd.to_datetime   .str[0]).dt.hour\u001b[39;00m\n\u001b[0;32m---> 11\u001b[0m     df[\u001b[38;5;124m'\u001b[39m\u001b[38;5;124msegmentsDepartureTimeRaw_hour\u001b[39m\u001b[38;5;124m'\u001b[39m] \u001b[38;5;241m=\u001b[39m \u001b[43mpd\u001b[49m\u001b[38;5;241;43m.\u001b[39;49m\u001b[43mto_datetime\u001b[49m\u001b[43m(\u001b[49m\u001b[43mdf\u001b[49m\u001b[43m[\u001b[49m\u001b[38;5;124;43m'\u001b[39;49m\u001b[38;5;124;43msegmentsDepartureTimeRaw\u001b[39;49m\u001b[38;5;124;43m'\u001b[39;49m\u001b[43m]\u001b[49m\u001b[38;5;241;43m.\u001b[39;49m\u001b[43mstr\u001b[49m\u001b[38;5;241;43m.\u001b[39;49m\u001b[43msplit\u001b[49m\u001b[43m(\u001b[49m\u001b[38;5;124;43m'\u001b[39;49m\u001b[38;5;124;43m|\u001b[39;49m\u001b[38;5;124;43m'\u001b[39;49m\u001b[43m)\u001b[49m\u001b[38;5;241;43m.\u001b[39;49m\u001b[43mstr\u001b[49m\u001b[43m[\u001b[49m\u001b[38;5;241;43m0\u001b[39;49m\u001b[43m]\u001b[49m\u001b[43m)\u001b[49m\u001b[38;5;241;43m.\u001b[39;49m\u001b[43mdt\u001b[49m\u001b[38;5;241m.\u001b[39mhour \u001b[38;5;66;03m#   .dt.hour\u001b[39;00m\n\u001b[1;32m     13\u001b[0m     \u001b[38;5;28;01mreturn\u001b[39;00m df\n",
      "File \u001b[0;32m~/Projects/adv_mla_at3/ml_experimentation/.venv/lib/python3.10/site-packages/pandas/core/generic.py:6299\u001b[0m, in \u001b[0;36mNDFrame.__getattr__\u001b[0;34m(self, name)\u001b[0m\n\u001b[1;32m   6292\u001b[0m \u001b[38;5;28;01mif\u001b[39;00m (\n\u001b[1;32m   6293\u001b[0m     name \u001b[38;5;129;01mnot\u001b[39;00m \u001b[38;5;129;01min\u001b[39;00m \u001b[38;5;28mself\u001b[39m\u001b[38;5;241m.\u001b[39m_internal_names_set\n\u001b[1;32m   6294\u001b[0m     \u001b[38;5;129;01mand\u001b[39;00m name \u001b[38;5;129;01mnot\u001b[39;00m \u001b[38;5;129;01min\u001b[39;00m \u001b[38;5;28mself\u001b[39m\u001b[38;5;241m.\u001b[39m_metadata\n\u001b[1;32m   6295\u001b[0m     \u001b[38;5;129;01mand\u001b[39;00m name \u001b[38;5;129;01mnot\u001b[39;00m \u001b[38;5;129;01min\u001b[39;00m \u001b[38;5;28mself\u001b[39m\u001b[38;5;241m.\u001b[39m_accessors\n\u001b[1;32m   6296\u001b[0m     \u001b[38;5;129;01mand\u001b[39;00m \u001b[38;5;28mself\u001b[39m\u001b[38;5;241m.\u001b[39m_info_axis\u001b[38;5;241m.\u001b[39m_can_hold_identifiers_and_holds_name(name)\n\u001b[1;32m   6297\u001b[0m ):\n\u001b[1;32m   6298\u001b[0m     \u001b[38;5;28;01mreturn\u001b[39;00m \u001b[38;5;28mself\u001b[39m[name]\n\u001b[0;32m-> 6299\u001b[0m \u001b[38;5;28;01mreturn\u001b[39;00m \u001b[38;5;28;43mobject\u001b[39;49m\u001b[38;5;241;43m.\u001b[39;49m\u001b[38;5;21;43m__getattribute__\u001b[39;49m\u001b[43m(\u001b[49m\u001b[38;5;28;43mself\u001b[39;49m\u001b[43m,\u001b[49m\u001b[43m \u001b[49m\u001b[43mname\u001b[49m\u001b[43m)\u001b[49m\n",
      "File \u001b[0;32m~/Projects/adv_mla_at3/ml_experimentation/.venv/lib/python3.10/site-packages/pandas/core/accessor.py:224\u001b[0m, in \u001b[0;36mCachedAccessor.__get__\u001b[0;34m(self, obj, cls)\u001b[0m\n\u001b[1;32m    221\u001b[0m \u001b[38;5;28;01mif\u001b[39;00m obj \u001b[38;5;129;01mis\u001b[39;00m \u001b[38;5;28;01mNone\u001b[39;00m:\n\u001b[1;32m    222\u001b[0m     \u001b[38;5;66;03m# we're accessing the attribute of the class, i.e., Dataset.geo\u001b[39;00m\n\u001b[1;32m    223\u001b[0m     \u001b[38;5;28;01mreturn\u001b[39;00m \u001b[38;5;28mself\u001b[39m\u001b[38;5;241m.\u001b[39m_accessor\n\u001b[0;32m--> 224\u001b[0m accessor_obj \u001b[38;5;241m=\u001b[39m \u001b[38;5;28;43mself\u001b[39;49m\u001b[38;5;241;43m.\u001b[39;49m\u001b[43m_accessor\u001b[49m\u001b[43m(\u001b[49m\u001b[43mobj\u001b[49m\u001b[43m)\u001b[49m\n\u001b[1;32m    225\u001b[0m \u001b[38;5;66;03m# Replace the property with the accessor object. Inspired by:\u001b[39;00m\n\u001b[1;32m    226\u001b[0m \u001b[38;5;66;03m# https://www.pydanny.com/cached-property.html\u001b[39;00m\n\u001b[1;32m    227\u001b[0m \u001b[38;5;66;03m# We need to use object.__setattr__ because we overwrite __setattr__ on\u001b[39;00m\n\u001b[1;32m    228\u001b[0m \u001b[38;5;66;03m# NDFrame\u001b[39;00m\n\u001b[1;32m    229\u001b[0m \u001b[38;5;28mobject\u001b[39m\u001b[38;5;241m.\u001b[39m\u001b[38;5;21m__setattr__\u001b[39m(obj, \u001b[38;5;28mself\u001b[39m\u001b[38;5;241m.\u001b[39m_name, accessor_obj)\n",
      "File \u001b[0;32m~/Projects/adv_mla_at3/ml_experimentation/.venv/lib/python3.10/site-packages/pandas/core/indexes/accessors.py:643\u001b[0m, in \u001b[0;36mCombinedDatetimelikeProperties.__new__\u001b[0;34m(cls, data)\u001b[0m\n\u001b[1;32m    640\u001b[0m \u001b[38;5;28;01melif\u001b[39;00m \u001b[38;5;28misinstance\u001b[39m(data\u001b[38;5;241m.\u001b[39mdtype, PeriodDtype):\n\u001b[1;32m    641\u001b[0m     \u001b[38;5;28;01mreturn\u001b[39;00m PeriodProperties(data, orig)\n\u001b[0;32m--> 643\u001b[0m \u001b[38;5;28;01mraise\u001b[39;00m \u001b[38;5;167;01mAttributeError\u001b[39;00m(\u001b[38;5;124m\"\u001b[39m\u001b[38;5;124mCan only use .dt accessor with datetimelike values\u001b[39m\u001b[38;5;124m\"\u001b[39m)\n",
      "\u001b[0;31mAttributeError\u001b[0m: Can only use .dt accessor with datetimelike values"
     ]
    }
   ],
   "source": [
    "parse_segment_time(df_clean)\n",
    "plot_data(df_clean)"
   ]
  },
  {
   "cell_type": "code",
   "execution_count": 29,
   "metadata": {},
   "outputs": [],
   "source": [
    "# Top desitations out of ATL\n",
    "top_destinations = df_clean['destinationAirport'].value_counts()\n"
   ]
  },
  {
   "cell_type": "markdown",
   "metadata": {},
   "source": [
    "## Merge into one master\n"
   ]
  },
  {
   "cell_type": "code",
   "execution_count": null,
   "metadata": {},
   "outputs": [],
   "source": []
  }
 ],
 "metadata": {
  "kernelspec": {
   "display_name": ".venv",
   "language": "python",
   "name": "python3"
  },
  "language_info": {
   "codemirror_mode": {
    "name": "ipython",
    "version": 3
   },
   "file_extension": ".py",
   "mimetype": "text/x-python",
   "name": "python",
   "nbconvert_exporter": "python",
   "pygments_lexer": "ipython3",
   "version": "3.10.12"
  }
 },
 "nbformat": 4,
 "nbformat_minor": 2
}
