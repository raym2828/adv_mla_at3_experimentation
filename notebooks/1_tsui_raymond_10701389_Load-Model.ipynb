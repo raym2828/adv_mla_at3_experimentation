{
 "cells": [
  {
   "cell_type": "code",
   "execution_count": 2,
   "metadata": {},
   "outputs": [],
   "source": [
    "import pandas as pd\n",
    "import numpy as np\n",
    "import zipfile \n",
    "import io\n",
    "import os\n",
    "import concurrent.futures\n",
    "import time\n",
    "import subprocess\n",
    "import multiprocessing\n"
   ]
  },
  {
   "cell_type": "markdown",
   "metadata": {},
   "source": [
    "# Data Loader"
   ]
  },
  {
   "cell_type": "markdown",
   "metadata": {},
   "source": [
    "## Function to unzip folder"
   ]
  },
  {
   "cell_type": "code",
   "execution_count": 5,
   "metadata": {},
   "outputs": [
    {
     "name": "stdout",
     "output_type": "stream",
     "text": [
      "Extracted ../data/external/itineraries_csv.zip to ../data/interim\n"
     ]
    }
   ],
   "source": [
    "# Extract the zip and save in interim\n",
    "data_folder = '../data'\n",
    "zip_flight_data= data_folder + '/external/itineraries_csv.zip'\n",
    "\n",
    "extract_directory = data_folder +'/interim'\n",
    "\n",
    "# Read the zip file\n",
    "with zipfile.ZipFile(zip_flight_data, 'r') as z:\n",
    "    z.extractall(extract_directory)\n",
    "\n",
    "print(f\"Extracted {zip_flight_data} to {extract_directory}\")\n",
    "\n"
   ]
  },
  {
   "cell_type": "markdown",
   "metadata": {},
   "source": [
    "## Function to unzip CSV and save them as 1 per airport"
   ]
  },
  {
   "cell_type": "code",
   "execution_count": 8,
   "metadata": {},
   "outputs": [
    {
     "name": "stdout",
     "output_type": "stream",
     "text": [
      "Saved IAD.csv\n",
      "Saved JFK.csv\n",
      "Saved PHL.csv\n",
      "Saved ORD.csv\n",
      "Saved OAK.csv\n",
      "Saved DTW.csv\n",
      "Saved DEN.csv\n",
      "Saved LAX.csv\n",
      "Saved CLT.csv\n",
      "Saved EWR.csv\n",
      "Saved MIA.csv\n",
      "Saved BOS.csv\n",
      "Saved LGA.csv\n",
      "Saved ATL.csv\n",
      "Saved SFO.csv\n",
      "Saved DFW.csv\n",
      "Execution time: 56.55 seconds\n"
     ]
    }
   ],
   "source": [
    "# CHAMPION FILE EXTRACTOR\n",
    "def process_folder(folder):    \n",
    "    df_list = []\n",
    "    files = os.listdir(f\"../data/interim/itineraries_csv/{folder}\")\n",
    "    for file in files:\n",
    "        file_path = f\"../data/interim/itineraries_csv/{folder}/{file}\"\n",
    "        if file.endswith('.zip'):\n",
    "            df=pd.read_csv(file_path, compression='zip')\n",
    "            df_list.append(df)\n",
    "    df_list = pd.concat(df_list)\n",
    "    df_list.to_csv(f\"../data/interim/{folder}.csv\", index=False)\n",
    "    print(f\"Saved {folder}.csv\")\n",
    "root_dir = \"../data/interim/itineraries_csv\"\n",
    "folders = [entry.name for entry in os.scandir(root_dir) if entry.is_dir()]\n",
    "\n",
    "# Measure execution time\n",
    "start_time = time.time()\n",
    "\n",
    "# Limit the number of threads\n",
    "max_threads = 4\n",
    "\n",
    "# Use multiprocessing.Pool to run the folder processing function in parallel\n",
    "with multiprocessing.Pool(processes=max_threads) as pool:\n",
    "    pool.map(process_folder, folders)\n",
    "\n",
    "end_time = time.time()\n",
    "elapsed_time = end_time - start_time\n",
    "print(f\"Execution time: {elapsed_time:.2f} seconds\")"
   ]
  },
  {
   "cell_type": "code",
   "execution_count": 9,
   "metadata": {},
   "outputs": [
    {
     "name": "stdout",
     "output_type": "stream",
     "text": [
      "Removed folders\n"
     ]
    }
   ],
   "source": [
    "# Remove the processed folders to save storage space\n",
    "subprocess.run(f\"rm -rf ../data/interim/itineraries_csv\", shell=True)\n",
    "subprocess.run(f\"rm -rf ../data/interim/__MACOSX\", shell=True)\n",
    "print(\"Removed folders\")\n"
   ]
  },
  {
   "cell_type": "markdown",
   "metadata": {},
   "source": [
    "# Read in airport CSV"
   ]
  },
  {
   "cell_type": "code",
   "execution_count": 3,
   "metadata": {},
   "outputs": [],
   "source": [
    "df = pd.read_csv('../data/interim/ATL.csv')\n"
   ]
  },
  {
   "cell_type": "code",
   "execution_count": 4,
   "metadata": {},
   "outputs": [
    {
     "name": "stdout",
     "output_type": "stream",
     "text": [
      "<class 'pandas.core.frame.DataFrame'>\n",
      "RangeIndex: 874069 entries, 0 to 874068\n",
      "Data columns (total 23 columns):\n",
      " #   Column                             Non-Null Count   Dtype  \n",
      "---  ------                             --------------   -----  \n",
      " 0   legId                              874069 non-null  object \n",
      " 1   searchDate                         874069 non-null  object \n",
      " 2   flightDate                         874069 non-null  object \n",
      " 3   startingAirport                    874069 non-null  object \n",
      " 4   destinationAirport                 874069 non-null  object \n",
      " 5   travelDuration                     874069 non-null  object \n",
      " 6   isBasicEconomy                     874069 non-null  bool   \n",
      " 7   isRefundable                       874069 non-null  bool   \n",
      " 8   isNonStop                          874069 non-null  bool   \n",
      " 9   totalFare                          874069 non-null  float64\n",
      " 10  totalTravelDistance                769021 non-null  float64\n",
      " 11  segmentsDepartureTimeEpochSeconds  874069 non-null  object \n",
      " 12  segmentsDepartureTimeRaw           874069 non-null  object \n",
      " 13  segmentsArrivalTimeEpochSeconds    874069 non-null  object \n",
      " 14  segmentsArrivalTimeRaw             874069 non-null  object \n",
      " 15  segmentsArrivalAirportCode         874069 non-null  object \n",
      " 16  segmentsDepartureAirportCode       874069 non-null  object \n",
      " 17  segmentsAirlineName                874069 non-null  object \n",
      " 18  segmentsAirlineCode                874069 non-null  object \n",
      " 19  segmentsEquipmentDescription       848482 non-null  object \n",
      " 20  segmentsDurationInSeconds          874069 non-null  object \n",
      " 21  segmentsDistance                   856849 non-null  object \n",
      " 22  segmentsCabinCode                  874069 non-null  object \n",
      "dtypes: bool(3), float64(2), object(18)\n",
      "memory usage: 135.9+ MB\n"
     ]
    }
   ],
   "source": [
    "df.describe( include='all') \n",
    "df.info()"
   ]
  },
  {
   "cell_type": "markdown",
   "metadata": {},
   "source": [
    "## Clean up data"
   ]
  },
  {
   "cell_type": "code",
   "execution_count": 5,
   "metadata": {},
   "outputs": [],
   "source": [
    "# Function to clean and convert the data\n",
    "def transform_data(df):\n",
    "\n",
    "    # Convert date columns\n",
    "    date_columns = ['searchDate', 'flightDate']\n",
    "    df[date_columns] = df[date_columns].apply(pd.to_datetime)\n",
    "\n",
    "    # Convert float to numeric\n",
    "    float_columns = ['totalFare','totalTravelDistance']\n",
    "    for col in float_columns:\n",
    "        df[col] = pd.to_numeric(df[col],errors='coerce').astype('float32')\n",
    "\n",
    "    # Drop rows\n",
    "    df = df.dropna(subset=['segmentsEquipmentDescription','segmentsAirlineName'])\n",
    "    return df\n",
    "\n",
    "    \n"
   ]
  },
  {
   "cell_type": "code",
   "execution_count": 54,
   "metadata": {},
   "outputs": [],
   "source": [
    "# Covert the segment data into new variables\n",
    "\n",
    "airports= ['ATL','BOS','DEN','DFW','EWR','JFK','LAX','LGA','MIA','OAK','ORD','PHL','SFO']\n",
    "# dictionary for the correct time offsets\n",
    "time_offsets = {'ATL': '-04:00', 'BOS' : '-04:00' , 'DEN':'-06:00', 'DFW':'-05:00' ,'EWR':'-04:00',   'JFK': '-04:00','LAX': '-07:00', 'LGA': '-04:00', 'MIA': '-04:00', 'OAK': '-07:00', 'ORD': '-05:00', 'PHL': '-04:00', 'SFO': '-07:00'}\n",
    "\n",
    "# Departure Hour Processing\n",
    "def process_segments_DepartTime(df):\n",
    "    # Split the departure time\n",
    "    print(\"Shape before processing: \", df.shape)\n",
    "    df[\"segmentsDepartureTimeRaw_hour\"] = df[\"segmentsDepartureTimeRaw\"].str.split(\"|\").str[0]\n",
    "    airportcode = df[\"startingAirport\"][0]\n",
    "    correct_time_offset = time_offsets[airportcode]\n",
    "\n",
    "    # filter for departure time hour that has the correct time offset\n",
    "    df = df[df[\"segmentsDepartureTimeRaw_hour\"].str[-6:] == correct_time_offset]\n",
    "    print(\"Shape after processing departure time: \", df.shape)\n",
    "\n",
    "    # check date difference between the  segmentsDepartureTimeRaw_hour aNd flight date and eliminate any that dont match\n",
    "    df[\"segmentsDepartureTimeRaw_hour\"] = pd.to_datetime(\n",
    "        df[\"segmentsDepartureTimeRaw_hour\"]\n",
    "    ).dt.tz_localize(None)\n",
    "    df = df[(df[\"segmentsDepartureTimeRaw_hour\"] - df[\"flightDate\"]).dt.days == 0]\n",
    "    print(\"Shape after filtering segment departure not the same as flight date: \", df.shape)\n",
    "\n",
    "    # extract out the hour of the day\n",
    "    df[\"segmentsDepartureTimeRaw_hour\"] = df[\"segmentsDepartureTimeRaw_hour\"].dt.hour.astype(\"int8\")\n",
    "\n",
    "    return df\n",
    "\n",
    "# Cabin Class Encoding\n",
    "cabin_class_encoding = {\n",
    "    \"coach\": 1,\n",
    "    \"premium coach\": 2,\n",
    "    \"business\": 3,\n",
    "    \"first\": 4,\n",
    "}\n",
    "\n",
    "def process_segments_CabinClass(df):\n",
    "    # Split the Cabin class\n",
    "    df[\"CabinCode\"] = df[\"segmentsCabinCode\"].str.split(\"\\\\|\\\\|\")\n",
    "    \n",
    "    # apply cabin_class_encoding on the cabin class\n",
    "    df[\"CabinCode\"] = df[\"CabinCode\"].apply(lambda x: [cabin_class_encoding.get(i, 0) for i in x])\n",
    "\n",
    "    # get the average of the cabin class\n",
    "    df[\"CabinCode\"] = df[\"CabinCode\"].apply(lambda x: np.mean(x))\n",
    "\n",
    "    return df\n",
    "\n"
   ]
  },
  {
   "cell_type": "code",
   "execution_count": 55,
   "metadata": {},
   "outputs": [
    {
     "name": "stderr",
     "output_type": "stream",
     "text": [
      "/tmp/ipykernel_24847/2570446233.py:41: SettingWithCopyWarning: \n",
      "A value is trying to be set on a copy of a slice from a DataFrame.\n",
      "Try using .loc[row_indexer,col_indexer] = value instead\n",
      "\n",
      "See the caveats in the documentation: https://pandas.pydata.org/pandas-docs/stable/user_guide/indexing.html#returning-a-view-versus-a-copy\n",
      "  df[\"CabinCode\"] = df[\"segmentsCabinCode\"].str.split(\"\\\\|\\\\|\")\n",
      "/tmp/ipykernel_24847/2570446233.py:44: SettingWithCopyWarning: \n",
      "A value is trying to be set on a copy of a slice from a DataFrame.\n",
      "Try using .loc[row_indexer,col_indexer] = value instead\n",
      "\n",
      "See the caveats in the documentation: https://pandas.pydata.org/pandas-docs/stable/user_guide/indexing.html#returning-a-view-versus-a-copy\n",
      "  df[\"CabinCode\"] = df[\"CabinCode\"].apply(lambda x: [cabin_class_encoding.get(i, 0) for i in x])\n"
     ]
    },
    {
     "name": "stdout",
     "output_type": "stream",
     "text": [
      "['coach' 'coach||coach' 'coach||coach||coach' 'first'\n",
      " 'coach||coach||coach||coach' 'premium coach' 'premium coach||coach'\n",
      " 'coach||business' 'coach||premium coach' 'first||coach'\n",
      " 'premium coach||premium coach' 'coach||premium coach||coach'\n",
      " 'business||coach' 'coach||coach||coach||premium coach'\n",
      " 'business||coach||coach' 'premium coach||coach||coach' 'coach||first'\n",
      " 'first||first' 'first||coach||coach' 'business||business||coach'\n",
      " 'first||coach||first' 'coach||first||coach' 'coach||coach||premium coach'\n",
      " 'premium coach||premium coach||coach' 'coach||business||coach'\n",
      " 'coach||business||business' 'coach||coach||business'\n",
      " 'coach||first||first' 'coach||coach||first' 'coach||coach||coach||first']\n"
     ]
    },
    {
     "name": "stderr",
     "output_type": "stream",
     "text": [
      "/tmp/ipykernel_24847/2570446233.py:47: SettingWithCopyWarning: \n",
      "A value is trying to be set on a copy of a slice from a DataFrame.\n",
      "Try using .loc[row_indexer,col_indexer] = value instead\n",
      "\n",
      "See the caveats in the documentation: https://pandas.pydata.org/pandas-docs/stable/user_guide/indexing.html#returning-a-view-versus-a-copy\n",
      "  df[\"CabinCode\"] = df[\"CabinCode\"].apply(lambda x: np.mean(x))\n"
     ]
    }
   ],
   "source": [
    "df_segments = process_segments_CabinClass(transform_data(df))\n",
    "print(df_segments['segmentsCabinCode'].unique())"
   ]
  },
  {
   "cell_type": "code",
   "execution_count": 8,
   "metadata": {},
   "outputs": [
    {
     "name": "stdout",
     "output_type": "stream",
     "text": [
      "<class 'pandas.core.frame.DataFrame'>\n",
      "Index: 848468 entries, 0 to 874068\n",
      "Data columns (total 24 columns):\n",
      " #   Column                             Non-Null Count   Dtype         \n",
      "---  ------                             --------------   -----         \n",
      " 0   legId                              848468 non-null  object        \n",
      " 1   searchDate                         848468 non-null  datetime64[ns]\n",
      " 2   flightDate                         848468 non-null  datetime64[ns]\n",
      " 3   startingAirport                    848468 non-null  object        \n",
      " 4   destinationAirport                 848468 non-null  object        \n",
      " 5   travelDuration                     848468 non-null  object        \n",
      " 6   isBasicEconomy                     848468 non-null  bool          \n",
      " 7   isRefundable                       848468 non-null  bool          \n",
      " 8   isNonStop                          848468 non-null  bool          \n",
      " 9   totalFare                          848468 non-null  float32       \n",
      " 10  totalTravelDistance                749397 non-null  float32       \n",
      " 11  segmentsDepartureTimeEpochSeconds  848468 non-null  object        \n",
      " 12  segmentsDepartureTimeRaw           848468 non-null  object        \n",
      " 13  segmentsArrivalTimeEpochSeconds    848468 non-null  object        \n",
      " 14  segmentsArrivalTimeRaw             848468 non-null  object        \n",
      " 15  segmentsArrivalAirportCode         848468 non-null  object        \n",
      " 16  segmentsDepartureAirportCode       848468 non-null  object        \n",
      " 17  segmentsAirlineName                848468 non-null  object        \n",
      " 18  segmentsAirlineCode                848468 non-null  object        \n",
      " 19  segmentsEquipmentDescription       848468 non-null  object        \n",
      " 20  segmentsDurationInSeconds          848468 non-null  object        \n",
      " 21  segmentsDistance                   837217 non-null  object        \n",
      " 22  segmentsCabinCode                  848468 non-null  object        \n",
      " 23  segmentsDepartureTimeRaw_hour      848468 non-null  int8          \n",
      "dtypes: bool(3), datetime64[ns](2), float32(2), int8(1), object(16)\n",
      "memory usage: 132.7+ MB\n"
     ]
    }
   ],
   "source": [
    "df_segments.info()"
   ]
  },
  {
   "cell_type": "markdown",
   "metadata": {},
   "source": [
    "## Run some graphs to visualise the data"
   ]
  },
  {
   "cell_type": "code",
   "execution_count": 51,
   "metadata": {},
   "outputs": [],
   "source": [
    "# function to plot the data\n",
    "import numpy as np\n",
    "import pandas as pd\n",
    "import seaborn as sns\n",
    "import matplotlib.pyplot as plt\n",
    "\n",
    "\n",
    "\n",
    "\n",
    "# Function to plot the data\n",
    "def plot_data(df):\n",
    "    # CHange width of all the plots\n",
    "    plt.rcParams['figure.figsize'] = [10, 6]\n",
    "    \n",
    "    \n",
    "    # # Plot the total fare distribution\n",
    "    # sns.histplot(df['totalFare'], kde=True)\n",
    "    # plt.title('Total Fare Distribution')\n",
    "    # plt.show()\n",
    "\n",
    "    # # Plot the total travel distance distribution\n",
    "    # sns.histplot(df['totalTravelDistance'], kde=True)\n",
    "    # plt.title('Total Travel Distance Distribution')\n",
    "    # plt.show()\n",
    "\n",
    "    # # #plot the segmentsAirlineCode, destinationAirport, segmentCabinCode in a facet grid\n",
    "    # # sns.catplot(data=df, kind='count', x='segmentsAirlineCode', col='destinationAirport', row='segmentsCabinCode')\n",
    "    # # plt.show()\n",
    "\n",
    "    # # Plot the total fare vs total travel distance\n",
    "    # sns.scatterplot(data=df, x='totalFare', y='totalTravelDistance')\n",
    "    # plt.title('Total Fare vs Total Travel Distance')\n",
    "    # plt.show()\n",
    "\n",
    "    # # Function for cat plots\n",
    "    # def catplot(x, df):\n",
    "    #     g=sns.catplot(data=df, kind='violin', x=x, y='totalFare', height=5, aspect=4)\n",
    "    #     return g\n",
    "    \n",
    "    # # Plot the destination city vs total fare\n",
    "    # catplot('destinationAirport', df)\n",
    "    # plt.title('Destination City vs Total Fare')\n",
    "    # plt.show()\n",
    "\n",
    "    # # Plot the departure time vs total fare\n",
    "    # catplot('segmentsDepartureTimeRaw_hour', df)\n",
    "    # plt.title('Departure Time vs Total Fare')\n",
    "    # plt.show()\n",
    "\n",
    "    # # Plot the distributions of total fare by isNonStop, isRefundable, and isBasicEconomy\n",
    "    # catplot('isNonStop', df)\n",
    "    # plt.title('Is Non Stop vs Total Fare')\n",
    "    # plt.show()\n",
    "    # catplot('isRefundable', df)\n",
    "    # plt.title('Is Refundable vs Total Fare')\n",
    "    # plt.show()\n",
    "    # catplot('isBasicEconomy', df)\n",
    "    # plt.title('Is Basic Economy vs Total Fare')\n",
    "    # plt.show()\n",
    "\n",
    "    # Plot the frequency of the cabincode average\n",
    "    sns.histplot(df['CabinCode'], kde=True)\n",
    "\n",
    "\n",
    "\n",
    "\n",
    "\n",
    "\n",
    "    \n",
    "\n",
    "\n",
    "\n",
    "\n"
   ]
  },
  {
   "cell_type": "code",
   "execution_count": 56,
   "metadata": {},
   "outputs": [
    {
     "data": {
      "image/png": "[encoded data removed]",
      "text/plain": [
       "<Figure size 1000x600 with 1 Axes>"
      ]
     },
     "metadata": {},
     "output_type": "display_data"
    }
   ],
   "source": [
    "plot_data(df_segments)"
   ]
  },
  {
   "cell_type": "code",
   "execution_count": 57,
   "metadata": {},
   "outputs": [
    {
     "name": "stderr",
     "output_type": "stream",
     "text": [
      "/tmp/ipykernel_24847/1113538657.py:5: FutureWarning: The default of observed=False is deprecated and will be changed to True in a future version of pandas. Pass observed=False to retain current behavior or observed=True to adopt the future default and silence this warning.\n",
      "  CabinAvgFare=df_segments.groupby(pd.cut(df_segments['CabinCode'], np.arange(0, 5.5, 0.5)))['totalFare'].agg(['count','mean'])\n"
     ]
    }
   ],
   "source": [
    "# Tabulate the cabin code volume and average total fare\n",
    "CabinAvgFare=df_segments.groupby('segmentsCabinCode')['totalFare'].agg(['count','mean'])\n",
    "\n",
    "# $ tabulate the cabin code by every 0.5 and average total fare\n",
    "CabinAvgFare=df_segments.groupby(pd.cut(df_segments['CabinCode'], np.arange(0, 5.5, 0.5)))['totalFare'].agg(['count','mean'])\n",
    "\n",
    "CabinAvgFare\n",
    "\n",
    "\n"
   ]
  },
  {
   "cell_type": "code",
   "execution_count": 26,
   "metadata": {},
   "outputs": [
    {
     "data": {
      "image/png": "[encoded data removed]",
      "text/plain": [
       "<Figure size 640x480 with 1 Axes>"
      ]
     },
     "metadata": {},
     "output_type": "display_data"
    }
   ],
   "source": [
    "# visualise segment departure time\n",
    "sns.histplot(df_segments['segmentsDepartureTimeRaw_hour'], kde=True)\n",
    "plt.title('Segment Departure Time Distribution')\n",
    "plt.show()\n"
   ]
  },
  {
   "cell_type": "code",
   "execution_count": 27,
   "metadata": {},
   "outputs": [],
   "source": [
    "# Top desitations out of ATL\n",
    "top_destinations = df_segments['destinationAirport'].value_counts()\n"
   ]
  },
  {
   "cell_type": "markdown",
   "metadata": {},
   "source": [
    "## Merge into one master\n"
   ]
  },
  {
   "cell_type": "code",
   "execution_count": null,
   "metadata": {},
   "outputs": [],
   "source": []
  }
 ],
 "metadata": {
  "kernelspec": {
   "display_name": ".venv",
   "language": "python",
   "name": "python3"
  },
  "language_info": {
   "codemirror_mode": {
    "name": "ipython",
    "version": 3
   },
   "file_extension": ".py",
   "mimetype": "text/x-python",
   "name": "python",
   "nbconvert_exporter": "python",
   "pygments_lexer": "ipython3",
   "version": "3.10.12"
  }
 },
 "nbformat": 4,
 "nbformat_minor": 2
}
