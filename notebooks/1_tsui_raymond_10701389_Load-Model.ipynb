{
 "cells": [
  {
   "cell_type": "code",
   "execution_count": 13,
   "metadata": {},
   "outputs": [],
   "source": [
    "import pandas as pd\n",
    "import numpy as np\n",
    "import zipfile \n",
    "import io\n",
    "import os\n",
    "import concurrent.futures\n",
    "import time\n",
    "import subprocess\n",
    "import multiprocessing\n"
   ]
  },
  {
   "cell_type": "code",
   "execution_count": 11,
   "metadata": {},
   "outputs": [
    {
     "name": "stdout",
     "output_type": "stream",
     "text": [
      "Extracted ../data/external/itineraries_csv.zip to ../data/interim\n"
     ]
    }
   ],
   "source": [
    "# Extract the zip and save in interim\n",
    "data_folder = '../data'\n",
    "zip_flight_data= data_folder + '/external/itineraries_csv.zip'\n",
    "\n",
    "extract_directory = data_folder +'/interim'\n",
    "\n",
    "# Read the zip file\n",
    "with zipfile.ZipFile(zip_flight_data, 'r') as z:\n",
    "    z.extractall(extract_directory)\n",
    "\n",
    "print(f\"Extracted {zip_flight_data} to {extract_directory}\")\n",
    "\n"
   ]
  },
  {
   "cell_type": "code",
   "execution_count": 15,
   "metadata": {},
   "outputs": [
    {
     "name": "stdout",
     "output_type": "stream",
     "text": [
      "Saved JFK.csv\n",
      "Saved IAD.csv\n",
      "Saved PHL.csv\n",
      "Saved ORD.csv\n",
      "Saved OAK.csv\n",
      "Saved DTW.csv\n",
      "Saved DEN.csv\n",
      "Saved LAX.csv\n",
      "Saved MIA.csv\n",
      "Saved CLT.csv\n",
      "Saved EWR.csv\n",
      "Saved ATL.csv\n",
      "Saved BOS.csv\n",
      "Saved LGA.csv\n",
      "Saved SFO.csv\n",
      "Saved DFW.csv\n",
      "Execution time: 56.90 seconds\n"
     ]
    }
   ],
   "source": [
    "# CHAMPION FILE EXTRACTOR\n",
    "def process_folder(folder):    \n",
    "    df_list = []\n",
    "    files = os.listdir(f\"../data/interim/itineraries_csv/{folder}\")\n",
    "    for file in files:\n",
    "        file_path = f\"../data/interim/itineraries_csv/{folder}/{file}\"\n",
    "        if file.endswith('.zip'):\n",
    "            df=pd.read_csv(file_path, compression='zip')\n",
    "            df_list.append(df)\n",
    "    df_list = pd.concat(df_list)\n",
    "    df_list.to_csv(f\"../data/interim/itineraries_csv/{folder}.csv\", index=False)\n",
    "    print(f\"Saved {folder}.csv\")\n",
    "folders = os.listdir(\"../data/interim/itineraries_csv\")\n",
    "\n",
    "# Measure execution time\n",
    "start_time = time.time()\n",
    "\n",
    "# Limit the number of threads\n",
    "max_threads = 4\n",
    "\n",
    "# Use multiprocessing.Pool to run the folder processing function in parallel\n",
    "with multiprocessing.Pool(processes=max_threads) as pool:\n",
    "    pool.map(process_folder, folders)\n",
    "\n",
    "end_time = time.time()\n",
    "elapsed_time = end_time - start_time\n",
    "print(f\"Execution time: {elapsed_time:.2f} seconds\")"
   ]
  },
  {
   "cell_type": "code",
   "execution_count": 6,
   "metadata": {},
   "outputs": [
    {
     "name": "stdout",
     "output_type": "stream",
     "text": [
      "Saved ORD.csv\n",
      "Saved JFK.csv\n",
      "Saved IAD.csv\n",
      "Saved PHL.csv\n",
      "Saved DTW.csv\n",
      "Saved OAK.csv\n",
      "Saved LAX.csv\n",
      "Saved DEN.csv\n",
      "Saved CLT.csv\n",
      "Saved MIA.csv\n",
      "Saved EWR.csv\n",
      "Saved BOS.csv\n",
      "Saved LGA.csv\n",
      "Saved SFO.csv\n",
      "Saved ATL.csv\n",
      "Saved DFW.csv\n",
      "Execution time: 153.21 seconds\n"
     ]
    }
   ],
   "source": [
    "\n",
    "# Measure execution time\n",
    "start_time = time.time()\n",
    "\n",
    "folders = os.listdir(\"../data/interim/itineraries_csv\")\n",
    "#folders.remove('.DS_Store')\n",
    "#subprocess.run([\"rm\", \"-rf\", \"../data/interim/itineraries_csv/.DS_Store\"])\n",
    "\n",
    "for folder in folders:\n",
    "    df_list = []\n",
    "    files = os.listdir(f\"../data/interim/itineraries_csv/{folder}\")\n",
    "    for file in files:\n",
    "        file_path = f\"../data/interim/itineraries_csv/{folder}/{file}\"\n",
    "        if file.endswith('.zip'):\n",
    "            df=pd.read_csv(file_path, compression='zip')\n",
    "            df_list.append(df)\n",
    "    df_list = pd.concat(df_list)\n",
    "    df_list.to_csv(f\"../data/interim/itineraries_csv/{folder}.csv\", index=False)\n",
    "    print(f\"Saved {folder}.csv\")\n",
    "\n",
    "end_time = time.time()\n",
    "elapsed_time = end_time - start_time\n",
    "print(f\"Execution time: {elapsed_time:.2f} seconds\")"
   ]
  },
  {
   "cell_type": "code",
   "execution_count": 9,
   "metadata": {},
   "outputs": [
    {
     "name": "stdout",
     "output_type": "stream",
     "text": [
      "Saved JFK.csv\n",
      "Saved ORD.csv\n",
      "Saved IAD.csv\n",
      "Saved PHL.csv\n",
      "Saved DTW.csv\n",
      "Saved OAK.csv\n",
      "Saved DEN.csv\n",
      "Saved LAX.csv\n",
      "Saved CLT.csv\n",
      "Saved MIA.csv\n",
      "Saved EWR.csv\n",
      "Saved BOS.csv\n",
      "Saved LGA.csv\n",
      "Saved SFO.csv\n",
      "Saved ATL.csv\n",
      "Saved DFW.csv\n",
      "Execution time: 170.22 seconds\n"
     ]
    }
   ],
   "source": [
    "def process_folder(folder):    \n",
    "    df_list = []\n",
    "    files = os.listdir(f\"../data/interim/itineraries_csv/{folder}\")\n",
    "    for file in files:\n",
    "        file_path = f\"../data/interim/itineraries_csv/{folder}/{file}\"\n",
    "        if file.endswith('.zip'):\n",
    "            df=pd.read_csv(file_path, compression='zip')\n",
    "            df_list.append(df)\n",
    "    df_list = pd.concat(df_list)\n",
    "    df_list.to_csv(f\"../data/interim/itineraries_csv/{folder}.csv\", index=False)\n",
    "    print(f\"Saved {folder}.csv\")\n",
    "folders = os.listdir(\"../data/interim/itineraries_csv\")\n",
    "\n",
    "# Measure execution time\n",
    "start_time = time.time()\n",
    "\n",
    "# Limit the number of threads\n",
    "max_threads = 2\n",
    "\n",
    "# Use ThreadPoolExecutor to run the folder processing function in parallel\n",
    "with concurrent.futures.ThreadPoolExecutor(max_workers=max_threads) as executor:\n",
    "    executor.map(process_folder, folders)\n",
    "\n",
    "end_time = time.time()\n",
    "elapsed_time = end_time - start_time\n",
    "print(f\"Execution time: {elapsed_time:.2f} seconds\")"
   ]
  },
  {
   "cell_type": "code",
   "execution_count": 2,
   "metadata": {},
   "outputs": [
    {
     "name": "stdout",
     "output_type": "stream",
     "text": [
      "Saved JFK.csv\n",
      "Saved IAD.csv\n",
      "Saved PHL.csv\n",
      "Saved ORD.csv\n",
      "Saved OAK.csv\n",
      "Saved DTW.csv\n",
      "Saved DEN.csv\n",
      "Saved LAX.csv\n",
      "Saved CLT.csv\n",
      "Saved MIA.csv\n",
      "Saved EWR.csv\n",
      "Saved BOS.csv\n",
      "Saved SFO.csv\n",
      "Saved LGA.csv\n",
      "Saved ATL.csv\n",
      "Saved DFW.csv\n"
     ]
    }
   ],
   "source": [
    "def process_folder(folder):\n",
    "    def read_csv_generator(folder):\n",
    "        files = os.listdir(f\"../data/interim/itineraries_csv/{folder}\")\n",
    "        for file in files:\n",
    "            file_path = f\"../data/interim/itineraries_csv/{folder}/{file}\"\n",
    "            if file.endswith('.zip'):\n",
    "                yield pd.read_csv(file_path, compression='zip')\n",
    "\n",
    "    df_list = list(read_csv_generator(folder))\n",
    "    if df_list:\n",
    "        df_list = pd.concat(df_list)\n",
    "        df_list.to_csv(f\"../data/interim/itineraries_csv/{folder}.csv\", index=False)\n",
    "        print(f\"Saved {folder}.csv\")\n",
    "\n",
    "folders = os.listdir(\"../data/interim/itineraries_csv\")\n",
    "\n",
    "# Limit the number of threads\n",
    "max_threads = 4\n",
    "\n",
    "# Measure execution time\n",
    "start_time = time.time()\n",
    "\n",
    "# Use ThreadPoolExecutor with a limited number of threads\n",
    "with concurrent.futures.ThreadPoolExecutor(max_workers=max_threads) as executor:\n",
    "    executor.map(process_folder, folders)\n",
    "\n",
    "end_time = time.time()\n",
    "elapsed_time = end_time - start_time\n",
    "print(f\"Execution time: {elapsed_time:.2f} seconds\")\n",
    "#3m 30sec"
   ]
  }
 ],
 "metadata": {
  "kernelspec": {
   "display_name": ".venv",
   "language": "python",
   "name": "python3"
  },
  "language_info": {
   "codemirror_mode": {
    "name": "ipython",
    "version": 3
   },
   "file_extension": ".py",
   "mimetype": "text/x-python",
   "name": "python",
   "nbconvert_exporter": "python",
   "pygments_lexer": "ipython3",
   "version": "3.10.12"
  }
 },
 "nbformat": 4,
 "nbformat_minor": 2
}
