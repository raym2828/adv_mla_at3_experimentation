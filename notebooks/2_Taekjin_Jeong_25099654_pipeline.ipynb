{
 "cells": [
  {
   "cell_type": "code",
   "execution_count": 1,
   "metadata": {},
   "outputs": [],
   "source": [
    "%load_ext autoreload\n",
    "%autoreload 2"
   ]
  },
  {
   "cell_type": "code",
   "execution_count": 2,
   "metadata": {},
   "outputs": [],
   "source": [
    "import warnings\n",
    "warnings.filterwarnings(\"ignore\")"
   ]
  },
  {
   "cell_type": "code",
   "execution_count": 3,
   "metadata": {},
   "outputs": [
    {
     "name": "stdout",
     "output_type": "stream",
     "text": [
      "Requirement already satisfied: pyarrow in /Users/tj/Library/Caches/pypoetry/virtualenvs/adv-mla-at3-experimentation-iSAKc5_x-py3.12/lib/python3.12/site-packages (18.0.0)\n",
      "\n",
      "\u001b[1m[\u001b[0m\u001b[34;49mnotice\u001b[0m\u001b[1;39;49m]\u001b[0m\u001b[39;49m A new release of pip is available: \u001b[0m\u001b[31;49m24.0\u001b[0m\u001b[39;49m -> \u001b[0m\u001b[32;49m24.3.1\u001b[0m\n",
      "\u001b[1m[\u001b[0m\u001b[34;49mnotice\u001b[0m\u001b[1;39;49m]\u001b[0m\u001b[39;49m To update, run: \u001b[0m\u001b[32;49mpip install --upgrade pip\u001b[0m\n"
     ]
    }
   ],
   "source": [
    "!pip install pyarrow"
   ]
  },
  {
   "cell_type": "code",
   "execution_count": 4,
   "metadata": {},
   "outputs": [],
   "source": [
    "import pandas as pd\n",
    "import numpy as np\n",
    "import zipfile \n",
    "import io\n",
    "import os\n",
    "import concurrent.futures\n",
    "import time\n",
    "import subprocess\n",
    "import multiprocessing\n",
    "import seaborn as sns\n",
    "import matplotlib.pyplot as plt\n",
    "import pyarrow\n",
    "import json\n",
    "from matplotlib.ticker import FormatStrFormatter"
   ]
  },
  {
   "cell_type": "code",
   "execution_count": 5,
   "metadata": {},
   "outputs": [],
   "source": [
    "import sys\n",
    "import os\n",
    "\n",
    "sys.path.append(os.path.abspath('../advmla_at3_package'))"
   ]
  },
  {
   "cell_type": "code",
   "execution_count": 6,
   "metadata": {},
   "outputs": [],
   "source": [
    "df_train = pd.read_feather('../data/processed/train_data.feather')\n",
    "df_test = pd.read_feather('../data/processed/test_data.feather')"
   ]
  },
  {
   "cell_type": "code",
   "execution_count": 7,
   "metadata": {},
   "outputs": [
    {
     "data": {
      "text/plain": [
       "(5287832, 15)"
      ]
     },
     "execution_count": 7,
     "metadata": {},
     "output_type": "execute_result"
    }
   ],
   "source": [
    "df_train.shape"
   ]
  },
  {
   "cell_type": "code",
   "execution_count": 8,
   "metadata": {},
   "outputs": [
    {
     "data": {
      "text/plain": [
       "(1321959, 15)"
      ]
     },
     "execution_count": 8,
     "metadata": {},
     "output_type": "execute_result"
    }
   ],
   "source": [
    "df_test.shape"
   ]
  },
  {
   "cell_type": "code",
   "execution_count": 9,
   "metadata": {},
   "outputs": [
    {
     "data": {
      "text/html": [
       "<div>\n",
       "<style scoped>\n",
       "    .dataframe tbody tr th:only-of-type {\n",
       "        vertical-align: middle;\n",
       "    }\n",
       "\n",
       "    .dataframe tbody tr th {\n",
       "        vertical-align: top;\n",
       "    }\n",
       "\n",
       "    .dataframe thead th {\n",
       "        text-align: right;\n",
       "    }\n",
       "</style>\n",
       "<table border=\"1\" class=\"dataframe\">\n",
       "  <thead>\n",
       "    <tr style=\"text-align: right;\">\n",
       "      <th></th>\n",
       "      <th>searchDate</th>\n",
       "      <th>flightDate</th>\n",
       "      <th>startingAirport</th>\n",
       "      <th>destinationAirport</th>\n",
       "      <th>isNonStop</th>\n",
       "      <th>isRefundable</th>\n",
       "      <th>isBasicEconomy</th>\n",
       "      <th>totalFare</th>\n",
       "      <th>totalTravelDistance</th>\n",
       "      <th>segmentsArrivalAirportCode</th>\n",
       "      <th>DepartureTimeHour</th>\n",
       "      <th>CabinCode</th>\n",
       "      <th>AirlineNameScore</th>\n",
       "      <th>date_diff_days</th>\n",
       "      <th>weekday</th>\n",
       "    </tr>\n",
       "  </thead>\n",
       "  <tbody>\n",
       "    <tr>\n",
       "      <th>6164974</th>\n",
       "      <td>2022-04-18</td>\n",
       "      <td>2022-05-10</td>\n",
       "      <td>SFO</td>\n",
       "      <td>DFW</td>\n",
       "      <td>True</td>\n",
       "      <td>False</td>\n",
       "      <td>False</td>\n",
       "      <td>283.600006</td>\n",
       "      <td>1468.0</td>\n",
       "      <td>DFW</td>\n",
       "      <td>13</td>\n",
       "      <td>1.0</td>\n",
       "      <td>4</td>\n",
       "      <td>22</td>\n",
       "      <td>1</td>\n",
       "    </tr>\n",
       "    <tr>\n",
       "      <th>63647</th>\n",
       "      <td>2022-04-21</td>\n",
       "      <td>2022-05-10</td>\n",
       "      <td>ATL</td>\n",
       "      <td>MIA</td>\n",
       "      <td>True</td>\n",
       "      <td>False</td>\n",
       "      <td>False</td>\n",
       "      <td>35.970001</td>\n",
       "      <td>596.0</td>\n",
       "      <td>MIA</td>\n",
       "      <td>10</td>\n",
       "      <td>1.0</td>\n",
       "      <td>1</td>\n",
       "      <td>19</td>\n",
       "      <td>1</td>\n",
       "    </tr>\n",
       "    <tr>\n",
       "      <th>5067940</th>\n",
       "      <td>2022-04-17</td>\n",
       "      <td>2022-06-05</td>\n",
       "      <td>OAK</td>\n",
       "      <td>ATL</td>\n",
       "      <td>False</td>\n",
       "      <td>False</td>\n",
       "      <td>False</td>\n",
       "      <td>334.579987</td>\n",
       "      <td>NaN</td>\n",
       "      <td>LAX||ATL</td>\n",
       "      <td>6</td>\n",
       "      <td>1.0</td>\n",
       "      <td>1</td>\n",
       "      <td>49</td>\n",
       "      <td>6</td>\n",
       "    </tr>\n",
       "    <tr>\n",
       "      <th>3385047</th>\n",
       "      <td>2022-04-28</td>\n",
       "      <td>2022-06-27</td>\n",
       "      <td>LAX</td>\n",
       "      <td>BOS</td>\n",
       "      <td>False</td>\n",
       "      <td>False</td>\n",
       "      <td>False</td>\n",
       "      <td>353.600006</td>\n",
       "      <td>2666.0</td>\n",
       "      <td>PHX||BOS</td>\n",
       "      <td>18</td>\n",
       "      <td>1.0</td>\n",
       "      <td>4</td>\n",
       "      <td>60</td>\n",
       "      <td>0</td>\n",
       "    </tr>\n",
       "    <tr>\n",
       "      <th>2982409</th>\n",
       "      <td>2022-04-19</td>\n",
       "      <td>2022-04-28</td>\n",
       "      <td>JFK</td>\n",
       "      <td>ATL</td>\n",
       "      <td>True</td>\n",
       "      <td>False</td>\n",
       "      <td>True</td>\n",
       "      <td>148.600006</td>\n",
       "      <td>762.0</td>\n",
       "      <td>ATL</td>\n",
       "      <td>12</td>\n",
       "      <td>1.0</td>\n",
       "      <td>4</td>\n",
       "      <td>9</td>\n",
       "      <td>3</td>\n",
       "    </tr>\n",
       "    <tr>\n",
       "      <th>4039661</th>\n",
       "      <td>2022-05-18</td>\n",
       "      <td>2022-07-01</td>\n",
       "      <td>LGA</td>\n",
       "      <td>ORD</td>\n",
       "      <td>True</td>\n",
       "      <td>False</td>\n",
       "      <td>False</td>\n",
       "      <td>327.600006</td>\n",
       "      <td>720.0</td>\n",
       "      <td>ORD</td>\n",
       "      <td>14</td>\n",
       "      <td>1.0</td>\n",
       "      <td>2</td>\n",
       "      <td>44</td>\n",
       "      <td>4</td>\n",
       "    </tr>\n",
       "    <tr>\n",
       "      <th>781738</th>\n",
       "      <td>2022-04-18</td>\n",
       "      <td>2022-05-05</td>\n",
       "      <td>BOS</td>\n",
       "      <td>DFW</td>\n",
       "      <td>False</td>\n",
       "      <td>False</td>\n",
       "      <td>False</td>\n",
       "      <td>152.600006</td>\n",
       "      <td>1565.0</td>\n",
       "      <td>JFK||DFW</td>\n",
       "      <td>12</td>\n",
       "      <td>1.0</td>\n",
       "      <td>2</td>\n",
       "      <td>17</td>\n",
       "      <td>3</td>\n",
       "    </tr>\n",
       "    <tr>\n",
       "      <th>3644365</th>\n",
       "      <td>2022-04-17</td>\n",
       "      <td>2022-05-18</td>\n",
       "      <td>LAX</td>\n",
       "      <td>ORD</td>\n",
       "      <td>False</td>\n",
       "      <td>False</td>\n",
       "      <td>False</td>\n",
       "      <td>417.600006</td>\n",
       "      <td>1787.0</td>\n",
       "      <td>PHX||ORD</td>\n",
       "      <td>13</td>\n",
       "      <td>1.0</td>\n",
       "      <td>4</td>\n",
       "      <td>31</td>\n",
       "      <td>2</td>\n",
       "    </tr>\n",
       "    <tr>\n",
       "      <th>2765255</th>\n",
       "      <td>2022-05-05</td>\n",
       "      <td>2022-05-18</td>\n",
       "      <td>JFK</td>\n",
       "      <td>BOS</td>\n",
       "      <td>False</td>\n",
       "      <td>False</td>\n",
       "      <td>False</td>\n",
       "      <td>497.200012</td>\n",
       "      <td>627.0</td>\n",
       "      <td>IAD||BOS</td>\n",
       "      <td>14</td>\n",
       "      <td>1.0</td>\n",
       "      <td>4</td>\n",
       "      <td>13</td>\n",
       "      <td>2</td>\n",
       "    </tr>\n",
       "    <tr>\n",
       "      <th>3107360</th>\n",
       "      <td>2022-04-25</td>\n",
       "      <td>2022-05-20</td>\n",
       "      <td>JFK</td>\n",
       "      <td>BOS</td>\n",
       "      <td>False</td>\n",
       "      <td>False</td>\n",
       "      <td>False</td>\n",
       "      <td>487.200012</td>\n",
       "      <td>627.0</td>\n",
       "      <td>IAD||BOS</td>\n",
       "      <td>14</td>\n",
       "      <td>1.0</td>\n",
       "      <td>4</td>\n",
       "      <td>25</td>\n",
       "      <td>4</td>\n",
       "    </tr>\n",
       "  </tbody>\n",
       "</table>\n",
       "</div>"
      ],
      "text/plain": [
       "        searchDate flightDate startingAirport destinationAirport  isNonStop  \\\n",
       "6164974 2022-04-18 2022-05-10             SFO                DFW       True   \n",
       "63647   2022-04-21 2022-05-10             ATL                MIA       True   \n",
       "5067940 2022-04-17 2022-06-05             OAK                ATL      False   \n",
       "3385047 2022-04-28 2022-06-27             LAX                BOS      False   \n",
       "2982409 2022-04-19 2022-04-28             JFK                ATL       True   \n",
       "4039661 2022-05-18 2022-07-01             LGA                ORD       True   \n",
       "781738  2022-04-18 2022-05-05             BOS                DFW      False   \n",
       "3644365 2022-04-17 2022-05-18             LAX                ORD      False   \n",
       "2765255 2022-05-05 2022-05-18             JFK                BOS      False   \n",
       "3107360 2022-04-25 2022-05-20             JFK                BOS      False   \n",
       "\n",
       "         isRefundable  isBasicEconomy   totalFare  totalTravelDistance  \\\n",
       "6164974         False           False  283.600006               1468.0   \n",
       "63647           False           False   35.970001                596.0   \n",
       "5067940         False           False  334.579987                  NaN   \n",
       "3385047         False           False  353.600006               2666.0   \n",
       "2982409         False            True  148.600006                762.0   \n",
       "4039661         False           False  327.600006                720.0   \n",
       "781738          False           False  152.600006               1565.0   \n",
       "3644365         False           False  417.600006               1787.0   \n",
       "2765255         False           False  497.200012                627.0   \n",
       "3107360         False           False  487.200012                627.0   \n",
       "\n",
       "        segmentsArrivalAirportCode  DepartureTimeHour  CabinCode  \\\n",
       "6164974                        DFW                 13        1.0   \n",
       "63647                          MIA                 10        1.0   \n",
       "5067940                   LAX||ATL                  6        1.0   \n",
       "3385047                   PHX||BOS                 18        1.0   \n",
       "2982409                        ATL                 12        1.0   \n",
       "4039661                        ORD                 14        1.0   \n",
       "781738                    JFK||DFW                 12        1.0   \n",
       "3644365                   PHX||ORD                 13        1.0   \n",
       "2765255                   IAD||BOS                 14        1.0   \n",
       "3107360                   IAD||BOS                 14        1.0   \n",
       "\n",
       "         AirlineNameScore  date_diff_days  weekday  \n",
       "6164974                 4              22        1  \n",
       "63647                   1              19        1  \n",
       "5067940                 1              49        6  \n",
       "3385047                 4              60        0  \n",
       "2982409                 4               9        3  \n",
       "4039661                 2              44        4  \n",
       "781738                  2              17        3  \n",
       "3644365                 4              31        2  \n",
       "2765255                 4              13        2  \n",
       "3107360                 4              25        4  "
      ]
     },
     "execution_count": 9,
     "metadata": {},
     "output_type": "execute_result"
    }
   ],
   "source": [
    "df_train.head(10)"
   ]
  },
  {
   "cell_type": "code",
   "execution_count": 24,
   "metadata": {},
   "outputs": [
    {
     "data": {
      "text/plain": [
       "searchDate                         0\n",
       "flightDate                         0\n",
       "startingAirport                    0\n",
       "destinationAirport                 0\n",
       "isNonStop                          0\n",
       "isRefundable                       0\n",
       "isBasicEconomy                     0\n",
       "totalFare                          0\n",
       "totalTravelDistance           484828\n",
       "segmentsArrivalAirportCode         0\n",
       "DepartureTimeHour                  0\n",
       "CabinCode                          0\n",
       "AirlineNameScore                   0\n",
       "date_diff_days                     0\n",
       "weekday                            0\n",
       "dtype: int64"
      ]
     },
     "execution_count": 24,
     "metadata": {},
     "output_type": "execute_result"
    }
   ],
   "source": [
    "df_train.isnull().sum()"
   ]
  },
  {
   "cell_type": "code",
   "execution_count": 10,
   "metadata": {},
   "outputs": [
    {
     "data": {
      "text/plain": [
       "searchDate                         0\n",
       "flightDate                         0\n",
       "startingAirport                    0\n",
       "destinationAirport                 0\n",
       "isNonStop                          0\n",
       "totalFare                          0\n",
       "totalTravelDistance           120986\n",
       "segmentsArrivalAirportCode         0\n",
       "DepartureTimeHour                  0\n",
       "CabinCode                          0\n",
       "AirlineNameScore                   0\n",
       "date_diff_days                     0\n",
       "weekday                            0\n",
       "dtype: int64"
      ]
     },
     "execution_count": 10,
     "metadata": {},
     "output_type": "execute_result"
    }
   ],
   "source": [
    "df_test.isnull().sum()"
   ]
  },
  {
   "cell_type": "code",
   "execution_count": 10,
   "metadata": {},
   "outputs": [],
   "source": [
    "from engineering.clean_master import preprocessing_data\n",
    "\n",
    "df_train_processed, df_test_precessed = preprocessing_data(df_train, df_test)"
   ]
  },
  {
   "cell_type": "code",
   "execution_count": 11,
   "metadata": {},
   "outputs": [],
   "source": [
    "selected_features = ['date_diff_days', 'weekday', 'CabinCode', 'DepartureTimeHour', 'totalTravelDistance', 'isRefundable', 'isBasicEconomy', 'isNonStop']\n",
    "categorical_features = ['startingAirport', 'destinationAirport']\n",
    "target = 'totalFare'\n",
    "\n",
    "df_filtered_train = df_train_processed[categorical_features + selected_features + [target]]\n",
    "df_filtered_test = df_test_precessed[categorical_features + selected_features + [target]]"
   ]
  },
  {
   "cell_type": "code",
   "execution_count": 12,
   "metadata": {},
   "outputs": [],
   "source": [
    "from sklearn.pipeline import Pipeline\n",
    "from sklearn.compose import ColumnTransformer\n",
    "from sklearn.preprocessing import StandardScaler, OneHotEncoder, OrdinalEncoder\n",
    "from sklearn.linear_model import LinearRegression\n",
    "\n",
    "numerical_features = ['totalTravelDistance']\n",
    "\n",
    "preprocessor = ColumnTransformer(\n",
    "    transformers=[\n",
    "        ('one-hot', OneHotEncoder(handle_unknown='ignore'), categorical_features),  \n",
    "        ('scaler', StandardScaler(), numerical_features) \n",
    "    ],\n",
    "    remainder='passthrough')\n",
    "\n",
    "pipeline = Pipeline(steps=[\n",
    "    ('preprocessor', preprocessor),\n",
    "    ('regressor', LinearRegression()) \n",
    "])"
   ]
  },
  {
   "cell_type": "code",
   "execution_count": 13,
   "metadata": {},
   "outputs": [],
   "source": [
    "from sklearn.model_selection import train_test_split\n",
    "\n",
    "\n",
    "# Split the datasets\n",
    "train_df, val_df = train_test_split(df_filtered_train, test_size=0.2, random_state=42)\n",
    "\n",
    "X_train = train_df.drop(columns=[target], axis=1)  \n",
    "y_train = train_df[target]\n",
    "\n",
    "X_val = val_df.drop(columns=[target], axis=1)  \n",
    "y_val = val_df[target]\n",
    "\n",
    "X_test = df_filtered_test.drop(columns=[target], axis=1)  \n",
    "y_test = df_filtered_test[target]"
   ]
  },
  {
   "cell_type": "code",
   "execution_count": 14,
   "metadata": {},
   "outputs": [],
   "source": [
    "from modeling.null import NullRegressor\n",
    "\n",
    "base_model = NullRegressor()\n",
    "\n",
    "y_base = base_model.fit_predict(y_train)\n"
   ]
  },
  {
   "cell_type": "code",
   "execution_count": 15,
   "metadata": {},
   "outputs": [
    {
     "name": "stdout",
     "output_type": "stream",
     "text": [
      "RMSE Training: 189.79791259765625\n",
      "MAE Training: 136.0172119140625\n",
      "RMSE Validation: 189.61782836914062\n",
      "MAE Validation: 135.9205780029297\n",
      "RMSE Testing: 188.92431640625\n",
      "MAE Testing: 135.76583862304688\n"
     ]
    }
   ],
   "source": [
    "# Baseline result\n",
    "\n",
    "from modeling.performance import print_regressor_scores\n",
    "\n",
    "print_regressor_scores(y_preds=y_base, y_actuals=y_train, set_name='Training')\n",
    "print_regressor_scores(y_preds=base_model.predict(y_val), y_actuals=y_val, set_name='Validation')\n",
    "print_regressor_scores(y_preds=base_model.predict(y_test), y_actuals=y_test, set_name='Testing')"
   ]
  },
  {
   "cell_type": "code",
   "execution_count": 16,
   "metadata": {},
   "outputs": [],
   "source": [
    "#1. Linear Regression\n",
    "\n",
    "pipeline.fit(X_train, y_train)\n",
    "\n",
    "y_preds = pipeline.predict(X_train)\n",
    "y_val_preds = pipeline.predict(X_val)\n",
    "y_test_preds = pipeline.predict(X_test)"
   ]
  },
  {
   "cell_type": "code",
   "execution_count": 17,
   "metadata": {},
   "outputs": [
    {
     "name": "stdout",
     "output_type": "stream",
     "text": [
      "RMSE Training: 131.97960557816188\n",
      "MAE Training: 92.59253783978536\n",
      "RMSE Validation: 131.72065132793418\n",
      "MAE Validation: 92.47262614164494\n",
      "RMSE Testing: 131.56070187574915\n",
      "MAE Testing: 92.54072417509839\n"
     ]
    }
   ],
   "source": [
    "#1. Linear Regression result\n",
    "\n",
    "print_regressor_scores(y_preds, y_train, set_name='Training')\n",
    "print_regressor_scores(y_val_preds, y_actuals=y_val, set_name='Validation')\n",
    "print_regressor_scores(y_test_preds, y_actuals=y_test, set_name='Testing')"
   ]
  },
  {
   "cell_type": "code",
   "execution_count": 30,
   "metadata": {},
   "outputs": [
    {
     "data": {
      "text/plain": [
       "['linear_model.joblib']"
      ]
     },
     "execution_count": 30,
     "metadata": {},
     "output_type": "execute_result"
    }
   ],
   "source": [
    "import joblib\n",
    "model_path = 'linear_model.joblib'\n",
    "joblib.dump(pipeline, model_path)"
   ]
  },
  {
   "cell_type": "code",
   "execution_count": 39,
   "metadata": {},
   "outputs": [],
   "source": [
    "from sklearn.linear_model import SGDRegressor\n",
    "\n",
    "pipeline3 = Pipeline(steps=[\n",
    "    ('preprocessor', preprocessor),\n",
    "    ('SGD', SGDRegressor(learning_rate='optimal',alpha=0.1)) \n",
    "])\n",
    "\n",
    "pipeline3.fit(X_train, y_train)\n",
    "\n",
    "y_preds3 = pipeline3.predict(X_train)\n",
    "y_val_preds3 = pipeline3.predict(X_val)\n",
    "y_test_preds3 = pipeline3.predict(X_test)"
   ]
  },
  {
   "cell_type": "code",
   "execution_count": 41,
   "metadata": {},
   "outputs": [
    {
     "name": "stdout",
     "output_type": "stream",
     "text": [
      "RMSE Training: 663988798.303233\n",
      "MAE Training: 527912128.62180895\n",
      "RMSE Validation: 663994738.175438\n",
      "MAE Validation: 528064419.2527296\n",
      "RMSE Testing: 664383560.1067221\n",
      "MAE Testing: 528123134.92055064\n"
     ]
    }
   ],
   "source": [
    "#2. SGDRegressor result\n",
    "\n",
    "print_regressor_scores(y_preds3, y_train, set_name='Training')\n",
    "print_regressor_scores(y_val_preds3, y_actuals=y_val, set_name='Validation')\n",
    "print_regressor_scores(y_test_preds3, y_actuals=y_test, set_name='Testing')"
   ]
  },
  {
   "cell_type": "code",
   "execution_count": 42,
   "metadata": {},
   "outputs": [],
   "source": [
    "pipeline_sgd = Pipeline([\n",
    "    ('preprocessor', preprocessor),\n",
    "    ('SGD', SGDRegressor(\n",
    "        learning_rate='invscaling',  \n",
    "        eta0=0.001,  \n",
    "        max_iter=1000,  \n",
    "        tol=1e-4  \n",
    "    ))\n",
    "])\n",
    "\n",
    "pipeline_sgd.fit(X_train, y_train)\n",
    "\n",
    "y_preds3 = pipeline_sgd.predict(X_train)\n",
    "y_val_preds3 = pipeline_sgd.predict(X_val)\n",
    "y_test_preds3 = pipeline_sgd.predict(X_test)"
   ]
  },
  {
   "cell_type": "code",
   "execution_count": 43,
   "metadata": {},
   "outputs": [
    {
     "name": "stdout",
     "output_type": "stream",
     "text": [
      "RMSE Training: 136.7813937479851\n",
      "MAE Training: 96.24451014140384\n",
      "RMSE Validation: 135.9198738981014\n",
      "MAE Validation: 96.18253896091979\n",
      "RMSE Testing: 136.51112215924726\n",
      "MAE Testing: 96.27562736429101\n"
     ]
    }
   ],
   "source": [
    "#3. SGDRegressor result (try different learning rate)\n",
    "\n",
    "print_regressor_scores(y_preds3, y_train, set_name='Training')\n",
    "print_regressor_scores(y_val_preds3, y_actuals=y_val, set_name='Validation')\n",
    "print_regressor_scores(y_test_preds3, y_actuals=y_test, set_name='Testing')"
   ]
  },
  {
   "cell_type": "code",
   "execution_count": 25,
   "metadata": {},
   "outputs": [],
   "source": [
    "from sklearn.ensemble import AdaBoostRegressor\n",
    "\n",
    "pipeline4 = Pipeline(steps=[\n",
    "    ('preprocessor', preprocessor),\n",
    "    ('Ada', AdaBoostRegressor()) \n",
    "])\n",
    "\n",
    "pipeline4.fit(X_train, y_train)\n",
    "\n",
    "y_preds3 = pipeline4.predict(X_train)\n",
    "y_val_preds3 = pipeline4.predict(X_val)\n",
    "y_test_preds3 = pipeline4.predict(X_test)"
   ]
  },
  {
   "cell_type": "code",
   "execution_count": 26,
   "metadata": {},
   "outputs": [
    {
     "name": "stdout",
     "output_type": "stream",
     "text": [
      "RMSE Training: 239.69478899890268\n",
      "MAE Training: 192.6699526841691\n",
      "RMSE Validation: 239.48726029444512\n",
      "MAE Validation: 192.60243057179738\n",
      "RMSE Testing: 239.75430269125368\n",
      "MAE Testing: 192.68703559240902\n"
     ]
    }
   ],
   "source": [
    "#4. Adaboost result\n",
    "\n",
    "print_regressor_scores(y_preds3, y_train, set_name='Training')\n",
    "print_regressor_scores(y_val_preds3, y_actuals=y_val, set_name='Validation')\n",
    "print_regressor_scores(y_test_preds3, y_actuals=y_test, set_name='Testing')"
   ]
  },
  {
   "cell_type": "code",
   "execution_count": 31,
   "metadata": {},
   "outputs": [],
   "source": [
    "from sklearn.ensemble import RandomForestRegressor\n",
    "\n",
    "pipeline_rf = Pipeline(steps=[\n",
    "    ('preprocessor', preprocessor),\n",
    "    ('random_forest', RandomForestRegressor(\n",
    "        n_estimators=20,\n",
    "        max_depth=5,\n",
    "        max_features='log2',\n",
    "        random_state=42\n",
    "    ))\n",
    "])\n",
    "\n",
    "pipeline_rf.fit(X_train, y_train)\n",
    "\n",
    "y_preds5 = pipeline_rf.predict(X_train)\n",
    "y_val_preds5 = pipeline_rf.predict(X_val)\n",
    "y_test_preds5 = pipeline_rf.predict(X_test)"
   ]
  },
  {
   "cell_type": "code",
   "execution_count": 34,
   "metadata": {},
   "outputs": [
    {
     "name": "stdout",
     "output_type": "stream",
     "text": [
      "RMSE Training: 153.66209223155462\n",
      "MAE Training: 110.71380431801786\n",
      "RMSE Validation: 152.62209640108296\n",
      "MAE Validation: 110.6031855614612\n",
      "RMSE Testing: 153.5224195293117\n",
      "MAE Testing: 110.76359140367751\n"
     ]
    }
   ],
   "source": [
    "#5. Randomforest result\n",
    "\n",
    "print_regressor_scores(y_preds5, y_train, set_name='Training')\n",
    "print_regressor_scores(y_val_preds5, y_actuals=y_val, set_name='Validation')\n",
    "print_regressor_scores(y_test_preds5, y_actuals=y_test, set_name='Testing')"
   ]
  },
  {
   "cell_type": "code",
   "execution_count": 35,
   "metadata": {},
   "outputs": [],
   "source": [
    "from sklearn.ensemble import RandomForestRegressor\n",
    "\n",
    "pipeline_rf = Pipeline(steps=[\n",
    "    ('preprocessor', preprocessor),\n",
    "    ('random_forest', RandomForestRegressor(\n",
    "        n_estimators=20,\n",
    "        max_depth=5,\n",
    "        max_features='sqrt',\n",
    "        random_state=42\n",
    "    ))\n",
    "])\n",
    "\n",
    "pipeline_rf.fit(X_train, y_train)\n",
    "\n",
    "y_preds5 = pipeline_rf.predict(X_train)\n",
    "y_val_preds5 = pipeline_rf.predict(X_val)\n",
    "y_test_preds5 = pipeline_rf.predict(X_test)"
   ]
  },
  {
   "cell_type": "code",
   "execution_count": 36,
   "metadata": {},
   "outputs": [
    {
     "name": "stdout",
     "output_type": "stream",
     "text": [
      "RMSE Training: 148.66311192808527\n",
      "MAE Training: 106.95499720718799\n",
      "RMSE Validation: 147.63094347906735\n",
      "MAE Validation: 106.86490898985168\n",
      "RMSE Testing: 148.62350695127662\n",
      "MAE Testing: 107.0206381875522\n"
     ]
    }
   ],
   "source": [
    "#5. Randomforest result (try different max_features)\n",
    "\n",
    "print_regressor_scores(y_preds5, y_train, set_name='Training')\n",
    "print_regressor_scores(y_val_preds5, y_actuals=y_val, set_name='Validation')\n",
    "print_regressor_scores(y_test_preds5, y_actuals=y_test, set_name='Testing')"
   ]
  },
  {
   "cell_type": "code",
   "execution_count": 37,
   "metadata": {},
   "outputs": [],
   "source": [
    "from sklearn.ensemble import RandomForestRegressor\n",
    "\n",
    "pipeline_rf = Pipeline(steps=[\n",
    "    ('preprocessor', preprocessor),\n",
    "    ('random_forest', RandomForestRegressor(\n",
    "        n_estimators=50,\n",
    "        max_depth=5,\n",
    "        max_features='sqrt',\n",
    "        random_state=42\n",
    "    ))\n",
    "])\n",
    "\n",
    "pipeline_rf.fit(X_train, y_train)\n",
    "\n",
    "y_preds5 = pipeline_rf.predict(X_train)\n",
    "y_val_preds5 = pipeline_rf.predict(X_val)\n",
    "y_test_preds5 = pipeline_rf.predict(X_test)"
   ]
  },
  {
   "cell_type": "code",
   "execution_count": 38,
   "metadata": {},
   "outputs": [
    {
     "name": "stdout",
     "output_type": "stream",
     "text": [
      "RMSE Training: 147.3470493157371\n",
      "MAE Training: 105.14035042981885\n",
      "RMSE Validation: 146.3135251874094\n",
      "MAE Validation: 105.06231659574148\n",
      "RMSE Testing: 147.31635763754997\n",
      "MAE Testing: 105.20337972359265\n"
     ]
    }
   ],
   "source": [
    "#5. Randomforest result (try different n_estimators)\n",
    "\n",
    "print_regressor_scores(y_preds5, y_train, set_name='Training')\n",
    "print_regressor_scores(y_val_preds5, y_actuals=y_val, set_name='Validation')\n",
    "print_regressor_scores(y_test_preds5, y_actuals=y_test, set_name='Testing')"
   ]
  },
  {
   "cell_type": "markdown",
   "metadata": {},
   "source": [
    "## Choose linear regression as a best model, optimise its performance"
   ]
  },
  {
   "cell_type": "code",
   "execution_count": 44,
   "metadata": {},
   "outputs": [],
   "source": [
    "from sklearn.linear_model import ElasticNet\n",
    "\n",
    "elastic_model = ElasticNet(alpha=1.0, l1_ratio=0.5)\n",
    "\n",
    "pipeline_ela = Pipeline(steps=[\n",
    "    ('preprocessor', preprocessor),\n",
    "    ('elastic', ElasticNet(alpha=1.0, l1_ratio=0.5)) \n",
    "])\n",
    "\n",
    "pipeline_ela.fit(X_train, y_train)\n",
    "\n",
    "y_preds6 = pipeline_ela.predict(X_train)\n",
    "y_val_preds6 = pipeline_ela.predict(X_val)\n",
    "y_test_preds6 = pipeline_ela.predict(X_test)"
   ]
  },
  {
   "cell_type": "code",
   "execution_count": 45,
   "metadata": {},
   "outputs": [
    {
     "name": "stdout",
     "output_type": "stream",
     "text": [
      "RMSE Training: 161.54868516178252\n",
      "MAE Training: 108.85429637746299\n",
      "RMSE Validation: 160.2458962104936\n",
      "MAE Validation: 108.76579881143603\n",
      "RMSE Testing: 161.8102993976421\n",
      "MAE Testing: 108.94793961291643\n"
     ]
    }
   ],
   "source": [
    "#1. ElasticNet result\n",
    "\n",
    "print_regressor_scores(y_preds6, y_train, set_name='Training')\n",
    "print_regressor_scores(y_val_preds6, y_actuals=y_val, set_name='Validation')\n",
    "print_regressor_scores(y_test_preds6, y_actuals=y_test, set_name='Testing')"
   ]
  },
  {
   "cell_type": "code",
   "execution_count": 32,
   "metadata": {},
   "outputs": [],
   "source": [
    "# Apply PolynomialFeatures\n",
    "\n",
    "from sklearn.preprocessing import PolynomialFeatures\n",
    "\n",
    "pipeline_poly = Pipeline(steps=[\n",
    "    ('preprocessor', preprocessor),\n",
    "    ('polynomial_features', PolynomialFeatures(degree=2)),  # Add polynomial features\n",
    "    ('regressor', LinearRegression())\n",
    "])\n",
    "\n",
    "\n",
    "pipeline_poly.fit(X_train, y_train)\n",
    "\n",
    "y_preds6 = pipeline_poly.predict(X_train)\n",
    "y_val_preds6 = pipeline_poly.predict(X_val)\n",
    "y_test_preds6 = pipeline_poly.predict(X_test)"
   ]
  },
  {
   "cell_type": "code",
   "execution_count": 33,
   "metadata": {},
   "outputs": [
    {
     "name": "stdout",
     "output_type": "stream",
     "text": [
      "RMSE Training: 122.27469787101582\n",
      "MAE Training: 84.72047258335992\n",
      "RMSE Validation: 122.14766860068697\n",
      "MAE Validation: 84.61828455194961\n",
      "RMSE Testing: 121.99713262875125\n",
      "MAE Testing: 84.71366449363327\n"
     ]
    }
   ],
   "source": [
    "#2. Linear Regression model after adding PolynomialFeatures (Best model)\n",
    "\n",
    "print_regressor_scores(y_preds6, y_train, set_name='Training')\n",
    "print_regressor_scores(y_val_preds6, y_actuals=y_val, set_name='Validation')\n",
    "print_regressor_scores(y_test_preds6, y_actuals=y_test, set_name='Testing')"
   ]
  },
  {
   "cell_type": "code",
   "execution_count": 34,
   "metadata": {},
   "outputs": [],
   "source": [
    "predictions_df = pd.DataFrame(y_test_preds6, columns=['lr_predicted_totalFare'])\n",
    "predictions_df.to_csv('../data/processed/predictions_lr.csv', index=False)"
   ]
  },
  {
   "cell_type": "code",
   "execution_count": null,
   "metadata": {},
   "outputs": [],
   "source": [
    "import joblib\n",
    "model_path = 'linear_model_final.joblib'\n",
    "joblib.dump(pipeline, model_path)"
   ]
  }
 ],
 "metadata": {
  "kernelspec": {
   "display_name": "adv-mla-at3-experimentation-iSAKc5_x-py3.12",
   "language": "python",
   "name": "python3"
  },
  "language_info": {
   "codemirror_mode": {
    "name": "ipython",
    "version": 3
   },
   "file_extension": ".py",
   "mimetype": "text/x-python",
   "name": "python",
   "nbconvert_exporter": "python",
   "pygments_lexer": "ipython3",
   "version": "3.12.4"
  },
  "orig_nbformat": 4
 },
 "nbformat": 4,
 "nbformat_minor": 2
}
